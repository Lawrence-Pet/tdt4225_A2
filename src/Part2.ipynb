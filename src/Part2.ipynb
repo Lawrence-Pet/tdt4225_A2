{
 "cells": [
  {
   "cell_type": "markdown",
   "metadata": {},
   "source": [
    "# TDT4225 Excercise 2 - Part 2"
   ]
  },
  {
   "cell_type": "code",
   "execution_count": 1,
   "metadata": {},
   "outputs": [],
   "source": [
    "from DbConnector import DbConnector\n",
    "import SqlQueriespt2 as SQ2"
   ]
  },
  {
   "cell_type": "markdown",
   "metadata": {},
   "source": [
    "## Question 1: How many users, activities, and trackpoints are there in the dataset\n"
   ]
  },
  {
   "cell_type": "code",
   "execution_count": 2,
   "metadata": {},
   "outputs": [
    {
     "name": "stderr",
     "output_type": "stream",
     "text": [
      "2023-10-04 13:59:41,138 SQL PART2  INFO Executing: SELECT COUNT(*) FROM User\n",
      "2023-10-04 13:59:41,163 SQL PART2  INFO Executing: SELECT COUNT(*) FROM Activity\n",
      "2023-10-04 13:59:41,190 SQL PART2  INFO Executing: SELECT COUNT(*) FROM TrackPoint\n"
     ]
    },
    {
     "name": "stdout",
     "output_type": "stream",
     "text": [
      "Connected to: 8.0.34-0ubuntu0.22.04.1\n",
      "You are connected to the database: ('main_db',)\n",
      "-----------------------------------------------\n",
      "\n",
      "Rows produced by statement 'SELECT COUNT(*) FROM User':\n",
      "[(182,)]\n",
      "Rows produced by statement 'SELECT COUNT(*) FROM Activity':\n",
      "[(16048,)]\n",
      "Rows produced by statement 'SELECT COUNT(*) FROM TrackPoint':\n",
      "[(9681756,)]\n",
      "\n",
      "-----------------------------------------------\n",
      "Connection to 8.0.34-0ubuntu0.22.04.1 is closed\n"
     ]
    }
   ],
   "source": [
    "db = DbConnector()\n",
    "\n",
    "count_users_query = \"SELECT COUNT(*) FROM User\"\n",
    "count_activities_query = \"SELECT COUNT(*) FROM Activity\"\n",
    "count_trackpoints_query = \"SELECT COUNT(*) FROM TrackPoint\"\n",
    "\n",
    "SQ2.query_to_db(db, count_users_query)\n",
    "SQ2.query_to_db(db, count_activities_query)\n",
    "SQ2.query_to_db(db, count_trackpoints_query)\n",
    "db.close_connection()"
   ]
  },
  {
   "cell_type": "markdown",
   "metadata": {},
   "source": [
    ">NOTE! We do not count the original dataset here, we only count the part of the dataset that fits the requirements for the excercise. "
   ]
  },
  {
   "cell_type": "markdown",
   "metadata": {},
   "source": [
    "## Question 2: Find the average, maximum, and minimum number of trackpoints per user"
   ]
  },
  {
   "cell_type": "code",
   "execution_count": null,
   "metadata": {},
   "outputs": [],
   "source": [
    "\n",
    "def statistics_trackpoints_per_user(function:str = \"AVG\"):\n",
    "    string = f\"\"\"\n",
    "        WITH \n",
    "            query AS (\n",
    "                        SELECT COUNT(trackpoint_id) AS trackpoint_count, activity_id FROM TrackPoint\n",
    "                        GROUP BY activity_id\n",
    "                    ),\n",
    "            activities AS (\n",
    "                SELECT user_id, activity_id FROM Activity\n",
    "                ),\n",
    "            joined_user AS (SELECT activities.user_id, query.trackpoint_count FROM query JOIN activities ON query.activity_id = activities.activity_id)\n",
    "\n",
    "            SELECT user_id, {function}(trackpoint_count) FROM joined_user\n",
    "            GROUP BY user_id\n",
    "        ;\n",
    "        \"\"\"\n",
    "    return string\n",
    "\n",
    "db = DbConnector()\n",
    "SQ2.query_to_db(db, statistics_trackpoints_per_user(\"AVG\"))\n",
    "SQ2.query_to_db(db, statistics_trackpoints_per_user(\"MIN\"))\n",
    "SQ2.query_to_db(db, statistics_trackpoints_per_user(\"MAX\"))\n",
    "db.close_connection\n",
    "\n"
   ]
  },
  {
   "cell_type": "markdown",
   "metadata": {},
   "source": [
    ">NOTE:\n",
    "> \n",
    ">First value in returned tuple is `user_id` second value is the result of the passed function. \n",
    ">\n",
    "> *Still only using DB values*"
   ]
  },
  {
   "cell_type": "markdown",
   "metadata": {},
   "source": [
    "## Question 3: Find the top 15 users with the highest number of activities"
   ]
  },
  {
   "cell_type": "code",
   "execution_count": null,
   "metadata": {},
   "outputs": [],
   "source": [
    "query_top_15_active_users = \"\"\"\n",
    "SELECT user_id, COUNT(activity_id) AS result FROM Activity\n",
    "GROUP BY user_id\n",
    "ORDER BY result DESC\n",
    "LIMIT 15\n",
    ";\n",
    "\"\"\"\n",
    "\n",
    "db = DbConnector()\n",
    "SQ2.query_to_db(db, query_top_15_active_users)\n",
    "db.close_connection"
   ]
  },
  {
   "cell_type": "markdown",
   "metadata": {},
   "source": [
    "## Question 4: Find all users who have taken a bus"
   ]
  },
  {
   "cell_type": "code",
   "execution_count": 11,
   "metadata": {},
   "outputs": [
    {
     "name": "stderr",
     "output_type": "stream",
     "text": [
      "2023-10-04 15:46:11,369 SQL PART2  INFO Executing: SELECT DISTINCT user_id FROM Activity WHERE transportation_mode='bus'\n"
     ]
    },
    {
     "name": "stdout",
     "output_type": "stream",
     "text": [
      "Connected to: 8.0.34-0ubuntu0.22.04.1\n",
      "You are connected to the database: ('main_db',)\n",
      "-----------------------------------------------\n",
      "\n",
      "Rows produced by statement 'SELECT DISTINCT user_id FROM Activity WHERE transportation_mode='bus'':\n",
      "[('010',), ('052',), ('062',), ('073',), ('081',), ('084',), ('085',), ('091',), ('092',), ('112',), ('125',), ('128',), ('175',)]\n"
     ]
    },
    {
     "data": {
      "text/plain": [
       "<bound method DbConnector.close_connection of <DbConnector.DbConnector object at 0x10ae12d60>>"
      ]
     },
     "execution_count": 11,
     "metadata": {},
     "output_type": "execute_result"
    }
   ],
   "source": [
    "bus_users_query = \"SELECT DISTINCT user_id FROM Activity WHERE transportation_mode='bus'\"\n",
    "db = DbConnector()\n",
    "SQ2.query_to_db(db, bus_users_query)\n",
    "db.close_connection\n"
   ]
  },
  {
   "cell_type": "markdown",
   "metadata": {},
   "source": [
    "## Question 5: List the top 10 users by their amount of different transportation modes\n"
   ]
  },
  {
   "cell_type": "code",
   "execution_count": 12,
   "metadata": {},
   "outputs": [
    {
     "name": "stderr",
     "output_type": "stream",
     "text": [
      "2023-10-04 15:47:35,431 SQL PART2  INFO Executing: \n",
      "SELECT user_id, COUNT(DISTINCT transportation_mode) AS mode_count\n",
      "FROM Activity\n",
      "GROUP BY user_id\n",
      "ORDER BY mode_count DESC\n",
      "LIMIT 10\n",
      "\n"
     ]
    },
    {
     "name": "stdout",
     "output_type": "stream",
     "text": [
      "Connected to: 8.0.34-0ubuntu0.22.04.1\n",
      "You are connected to the database: ('main_db',)\n",
      "-----------------------------------------------\n",
      "\n",
      "Rows produced by statement 'SELECT user_id, COUNT(DISTINCT transportation_mode) AS mode_count\n",
      "FROM Activity\n",
      "GROUP BY user_id\n",
      "ORDER BY mode_count DESC\n",
      "LIMIT 10':\n",
      "[('128', 9), ('062', 7), ('085', 4), ('084', 3), ('058', 3), ('163', 3), ('078', 3), ('081', 3), ('112', 3), ('065', 2)]\n"
     ]
    },
    {
     "data": {
      "text/plain": [
       "<bound method DbConnector.close_connection of <DbConnector.DbConnector object at 0x10ae12700>>"
      ]
     },
     "execution_count": 12,
     "metadata": {},
     "output_type": "execute_result"
    }
   ],
   "source": [
    "top_10_users_modes_query = \"\"\"\n",
    "SELECT user_id, COUNT(DISTINCT transportation_mode) AS mode_count\n",
    "FROM Activity\n",
    "GROUP BY user_id\n",
    "ORDER BY mode_count DESC\n",
    "LIMIT 10\n",
    "\"\"\"\n",
    "\n",
    "db = DbConnector()\n",
    "SQ2.query_to_db(db, top_10_users_modes_query)\n",
    "db.close_connection"
   ]
  },
  {
   "cell_type": "markdown",
   "metadata": {},
   "source": [
    "## Question 6: Find activities that are registered multiple times"
   ]
  },
  {
   "cell_type": "code",
   "execution_count": 13,
   "metadata": {},
   "outputs": [
    {
     "name": "stderr",
     "output_type": "stream",
     "text": [
      "2023-10-04 15:49:28,087 SQL PART2  INFO Executing: \n",
      "SELECT activity_id\n",
      "FROM Activity\n",
      "GROUP BY activity_id\n",
      "HAVING COUNT(activity_id) > 1\n",
      "\n"
     ]
    },
    {
     "name": "stdout",
     "output_type": "stream",
     "text": [
      "Connected to: 8.0.34-0ubuntu0.22.04.1\n",
      "You are connected to the database: ('main_db',)\n",
      "-----------------------------------------------\n",
      "\n",
      "Rows produced by statement 'SELECT activity_id\n",
      "FROM Activity\n",
      "GROUP BY activity_id\n",
      "HAVING COUNT(activity_id) > 1':\n",
      "[]\n"
     ]
    },
    {
     "data": {
      "text/plain": [
       "<bound method DbConnector.close_connection of <DbConnector.DbConnector object at 0x10ae12f10>>"
      ]
     },
     "execution_count": 13,
     "metadata": {},
     "output_type": "execute_result"
    }
   ],
   "source": [
    "duplicate_activities_query = \"\"\"\n",
    "SELECT activity_id\n",
    "FROM Activity\n",
    "GROUP BY activity_id\n",
    "HAVING COUNT(activity_id) > 1\n",
    "\"\"\"\n",
    "db = DbConnector()\n",
    "SQ2.query_to_db(db, duplicate_activities_query)\n",
    "db.close_connection"
   ]
  },
  {
   "cell_type": "markdown",
   "metadata": {},
   "source": [
    "## Question 7a: Find the number of users that have started an activity in one day and ended the activity the next day\n"
   ]
  },
  {
   "cell_type": "code",
   "execution_count": 26,
   "metadata": {},
   "outputs": [
    {
     "name": "stderr",
     "output_type": "stream",
     "text": [
      "2023-10-04 16:03:34,669 SQL PART2  INFO Executing: \n",
      "WITH result AS (\n",
      "    SELECT user_id\n",
      "    FROM Activity\n",
      "    WHERE DATE(start_date_time) != DATE(end_date_time)\n",
      ")\n",
      "SELECT DISTINCT user_id FROM result\n",
      ";\n",
      "\n"
     ]
    },
    {
     "name": "stdout",
     "output_type": "stream",
     "text": [
      "Connected to: 8.0.34-0ubuntu0.22.04.1\n",
      "You are connected to the database: ('main_db',)\n",
      "-----------------------------------------------\n",
      "\n",
      "Rows produced by statement 'WITH result AS (\n",
      "    SELECT user_id\n",
      "    FROM Activity\n",
      "    WHERE DATE(start_date_time) != DATE(end_date_time)\n",
      ")\n",
      "SELECT DISTINCT user_id FROM result':\n",
      "[('000',), ('001',), ('002',), ('003',), ('004',), ('005',), ('006',), ('007',), ('010',), ('011',), ('013',), ('014',), ('015',), ('016',), ('017',), ('018',), ('019',), ('020',), ('021',), ('022',), ('024',), ('025',), ('026',), ('027',), ('028',), ('029',), ('030',), ('032',), ('035',), ('036',), ('037',), ('038',), ('039',), ('041',), ('042',), ('043',), ('044',), ('050',), ('051',), ('052',), ('053',), ('057',), ('058',), ('061',), ('062',), ('067',), ('068',), ('069',), ('070',), ('071',), ('074',), ('076',), ('081',), ('082',), ('083',), ('084',), ('085',), ('088',), ('091',), ('092',), ('094',), ('095',), ('099',), ('100',), ('101',), ('103',), ('104',), ('106',), ('108',), ('111',), ('112',), ('113',), ('115',), ('118',), ('124',), ('125',), ('126',), ('128',), ('129',), ('132',), ('134',), ('138',), ('139',), ('140',), ('142',), ('144',), ('146',), ('147',), ('150',), ('153',), ('155',), ('157',), ('163',), ('167',), ('168',), ('172',), ('174',), ('175',)]\n"
     ]
    },
    {
     "data": {
      "text/plain": [
       "<bound method DbConnector.close_connection of <DbConnector.DbConnector object at 0x10ae12cd0>>"
      ]
     },
     "execution_count": 26,
     "metadata": {},
     "output_type": "execute_result"
    }
   ],
   "source": [
    "\n",
    "users_start_end_next_day_query = \"\"\"\n",
    "WITH result AS (\n",
    "    SELECT user_id\n",
    "    FROM Activity\n",
    "    WHERE DATE(start_date_time) != DATE(end_date_time)\n",
    ")\n",
    "SELECT DISTINCT user_id FROM result\n",
    ";\n",
    "\"\"\"\n",
    "db = DbConnector()\n",
    "SQ2.query_to_db(db, users_start_end_next_day_query)\n",
    "db.close_connection"
   ]
  },
  {
   "cell_type": "markdown",
   "metadata": {},
   "source": [
    "## Question 7b: List the transportation mode, user id, and duration for these activities"
   ]
  },
  {
   "cell_type": "code",
   "execution_count": null,
   "metadata": {},
   "outputs": [],
   "source": [
    "q = \"\"\"\n",
    "SELECT user_id, transportation_mode\n",
    "FROM Activity\n",
    "WHERE DATE(start_date_time) != DATE(end_date_time)\n",
    "\"\"\""
   ]
  }
 ],
 "metadata": {
  "kernelspec": {
   "display_name": "venv",
   "language": "python",
   "name": "python3"
  },
  "language_info": {
   "codemirror_mode": {
    "name": "ipython",
    "version": 3
   },
   "file_extension": ".py",
   "mimetype": "text/x-python",
   "name": "python",
   "nbconvert_exporter": "python",
   "pygments_lexer": "ipython3",
   "version": "3.9.16"
  },
  "orig_nbformat": 4
 },
 "nbformat": 4,
 "nbformat_minor": 2
}
