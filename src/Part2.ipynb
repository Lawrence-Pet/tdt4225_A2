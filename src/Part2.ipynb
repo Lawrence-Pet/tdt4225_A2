{
 "cells": [
  {
   "cell_type": "markdown",
   "metadata": {},
   "source": [
    "# TDT4225 Excercise 2 - Part 2"
   ]
  },
  {
   "cell_type": "code",
   "execution_count": 1,
   "metadata": {},
   "outputs": [],
   "source": [
    "from DbConnector import DbConnector\n",
    "import SqlQueriespt2 as SQ2"
   ]
  },
  {
   "cell_type": "markdown",
   "metadata": {},
   "source": [
    "## Question 1: How many users, activities, and trackpoints are there in the dataset\n"
   ]
  },
  {
   "cell_type": "code",
   "execution_count": 28,
   "metadata": {},
   "outputs": [
    {
     "name": "stderr",
     "output_type": "stream",
     "text": [
      "2023-10-05 11:33:36,650 SQL PART2  INFO Executing: SELECT COUNT(*) FROM User\n",
      "2023-10-05 11:33:36,673 SQL PART2  INFO Executing: SELECT COUNT(*) FROM Activity\n",
      "2023-10-05 11:33:36,701 SQL PART2  INFO Executing: SELECT COUNT(*) FROM TrackPoint\n"
     ]
    },
    {
     "name": "stdout",
     "output_type": "stream",
     "text": [
      "Connected to: 8.0.34-0ubuntu0.22.04.1\n",
      "You are connected to the database: ('main_db',)\n",
      "-----------------------------------------------\n",
      "\n",
      "Rows produced by statement 'SELECT COUNT(*) FROM User':\n",
      "[(182,)]\n",
      "Rows produced by statement 'SELECT COUNT(*) FROM Activity':\n",
      "[(16048,)]\n",
      "Rows produced by statement 'SELECT COUNT(*) FROM TrackPoint':\n",
      "[(9681756,)]\n",
      "\n",
      "-----------------------------------------------\n",
      "Connection to 8.0.34-0ubuntu0.22.04.1 is closed\n"
     ]
    }
   ],
   "source": [
    "db = DbConnector()\n",
    "\n",
    "count_users_query = \"SELECT COUNT(*) FROM User\"\n",
    "count_activities_query = \"SELECT COUNT(*) FROM Activity\"\n",
    "count_trackpoints_query = \"SELECT COUNT(*) FROM TrackPoint\"\n",
    "\n",
    "SQ2.query_to_db(db, count_users_query)\n",
    "SQ2.query_to_db(db, count_activities_query)\n",
    "SQ2.query_to_db(db, count_trackpoints_query)\n",
    "db.close_connection()"
   ]
  },
  {
   "cell_type": "markdown",
   "metadata": {},
   "source": [
    ">NOTE! We do not count the original dataset here, we only count the part of the dataset that fits the requirements for the excercise. "
   ]
  },
  {
   "cell_type": "markdown",
   "metadata": {},
   "source": [
    "## Question 2: Find the average, maximum, and minimum number of trackpoints per user"
   ]
  },
  {
   "cell_type": "code",
   "execution_count": null,
   "metadata": {},
   "outputs": [],
   "source": [
    "\n",
    "def statistics_trackpoints_per_user(function:str = \"AVG\"):\n",
    "    string = f\"\"\"\n",
    "        WITH \n",
    "            query AS (\n",
    "                        SELECT COUNT(trackpoint_id) AS trackpoint_count, activity_id FROM TrackPoint\n",
    "                        GROUP BY activity_id\n",
    "                    ),\n",
    "            activities AS (\n",
    "                SELECT user_id, activity_id FROM Activity\n",
    "                ),\n",
    "            joined_user AS (SELECT activities.user_id, query.trackpoint_count FROM query JOIN activities ON query.activity_id = activities.activity_id)\n",
    "\n",
    "            SELECT user_id, {function}(trackpoint_count) FROM joined_user\n",
    "            GROUP BY user_id\n",
    "        ;\n",
    "        \"\"\"\n",
    "    return string\n",
    "\n",
    "db = DbConnector()\n",
    "SQ2.query_to_db(db, statistics_trackpoints_per_user(\"AVG\"))\n",
    "SQ2.query_to_db(db, statistics_trackpoints_per_user(\"MIN\"))\n",
    "SQ2.query_to_db(db, statistics_trackpoints_per_user(\"MAX\"))\n",
    "db.close_connection\n",
    "\n"
   ]
  },
  {
   "cell_type": "markdown",
   "metadata": {},
   "source": [
    ">NOTE:\n",
    "> \n",
    ">First value in returned tuple is `user_id` second value is the result of the passed function. \n",
    ">\n",
    "> *Still only using DB values*"
   ]
  },
  {
   "cell_type": "markdown",
   "metadata": {},
   "source": [
    "## Question 3: Find the top 15 users with the highest number of activities"
   ]
  },
  {
   "cell_type": "code",
   "execution_count": null,
   "metadata": {},
   "outputs": [],
   "source": [
    "query_top_15_active_users = \"\"\"\n",
    "SELECT user_id, COUNT(activity_id) AS result FROM Activity\n",
    "GROUP BY user_id\n",
    "ORDER BY result DESC\n",
    "LIMIT 15\n",
    ";\n",
    "\"\"\"\n",
    "\n",
    "db = DbConnector()\n",
    "SQ2.query_to_db(db, query_top_15_active_users)\n",
    "db.close_connection"
   ]
  },
  {
   "cell_type": "markdown",
   "metadata": {},
   "source": [
    "## Question 4: Find all users who have taken a bus"
   ]
  },
  {
   "cell_type": "code",
   "execution_count": 11,
   "metadata": {},
   "outputs": [
    {
     "name": "stderr",
     "output_type": "stream",
     "text": [
      "2023-10-04 15:46:11,369 SQL PART2  INFO Executing: SELECT DISTINCT user_id FROM Activity WHERE transportation_mode='bus'\n"
     ]
    },
    {
     "name": "stdout",
     "output_type": "stream",
     "text": [
      "Connected to: 8.0.34-0ubuntu0.22.04.1\n",
      "You are connected to the database: ('main_db',)\n",
      "-----------------------------------------------\n",
      "\n",
      "Rows produced by statement 'SELECT DISTINCT user_id FROM Activity WHERE transportation_mode='bus'':\n",
      "[('010',), ('052',), ('062',), ('073',), ('081',), ('084',), ('085',), ('091',), ('092',), ('112',), ('125',), ('128',), ('175',)]\n"
     ]
    },
    {
     "data": {
      "text/plain": [
       "<bound method DbConnector.close_connection of <DbConnector.DbConnector object at 0x10ae12d60>>"
      ]
     },
     "execution_count": 11,
     "metadata": {},
     "output_type": "execute_result"
    }
   ],
   "source": [
    "bus_users_query = \"SELECT DISTINCT user_id FROM Activity WHERE transportation_mode='bus'\"\n",
    "db = DbConnector()\n",
    "SQ2.query_to_db(db, bus_users_query)\n",
    "db.close_connection\n"
   ]
  },
  {
   "cell_type": "markdown",
   "metadata": {},
   "source": [
    "## Question 5: List the top 10 users by their amount of different transportation modes\n"
   ]
  },
  {
   "cell_type": "code",
   "execution_count": 12,
   "metadata": {},
   "outputs": [
    {
     "name": "stderr",
     "output_type": "stream",
     "text": [
      "2023-10-04 15:47:35,431 SQL PART2  INFO Executing: \n",
      "SELECT user_id, COUNT(DISTINCT transportation_mode) AS mode_count\n",
      "FROM Activity\n",
      "GROUP BY user_id\n",
      "ORDER BY mode_count DESC\n",
      "LIMIT 10\n",
      "\n"
     ]
    },
    {
     "name": "stdout",
     "output_type": "stream",
     "text": [
      "Connected to: 8.0.34-0ubuntu0.22.04.1\n",
      "You are connected to the database: ('main_db',)\n",
      "-----------------------------------------------\n",
      "\n",
      "Rows produced by statement 'SELECT user_id, COUNT(DISTINCT transportation_mode) AS mode_count\n",
      "FROM Activity\n",
      "GROUP BY user_id\n",
      "ORDER BY mode_count DESC\n",
      "LIMIT 10':\n",
      "[('128', 9), ('062', 7), ('085', 4), ('084', 3), ('058', 3), ('163', 3), ('078', 3), ('081', 3), ('112', 3), ('065', 2)]\n"
     ]
    },
    {
     "data": {
      "text/plain": [
       "<bound method DbConnector.close_connection of <DbConnector.DbConnector object at 0x10ae12700>>"
      ]
     },
     "execution_count": 12,
     "metadata": {},
     "output_type": "execute_result"
    }
   ],
   "source": [
    "top_10_users_modes_query = \"\"\"\n",
    "SELECT user_id, COUNT(DISTINCT transportation_mode) AS mode_count\n",
    "FROM Activity\n",
    "GROUP BY user_id\n",
    "ORDER BY mode_count DESC\n",
    "LIMIT 10\n",
    "\"\"\"\n",
    "\n",
    "db = DbConnector()\n",
    "SQ2.query_to_db(db, top_10_users_modes_query)\n",
    "db.close_connection"
   ]
  },
  {
   "cell_type": "markdown",
   "metadata": {},
   "source": [
    "## Question 6: Find activities that are registered multiple times"
   ]
  },
  {
   "cell_type": "code",
   "execution_count": 13,
   "metadata": {},
   "outputs": [
    {
     "name": "stderr",
     "output_type": "stream",
     "text": [
      "2023-10-04 15:49:28,087 SQL PART2  INFO Executing: \n",
      "SELECT activity_id\n",
      "FROM Activity\n",
      "GROUP BY activity_id\n",
      "HAVING COUNT(activity_id) > 1\n",
      "\n"
     ]
    },
    {
     "name": "stdout",
     "output_type": "stream",
     "text": [
      "Connected to: 8.0.34-0ubuntu0.22.04.1\n",
      "You are connected to the database: ('main_db',)\n",
      "-----------------------------------------------\n",
      "\n",
      "Rows produced by statement 'SELECT activity_id\n",
      "FROM Activity\n",
      "GROUP BY activity_id\n",
      "HAVING COUNT(activity_id) > 1':\n",
      "[]\n"
     ]
    },
    {
     "data": {
      "text/plain": [
       "<bound method DbConnector.close_connection of <DbConnector.DbConnector object at 0x10ae12f10>>"
      ]
     },
     "execution_count": 13,
     "metadata": {},
     "output_type": "execute_result"
    }
   ],
   "source": [
    "duplicate_activities_query = \"\"\"\n",
    "SELECT activity_id\n",
    "FROM Activity\n",
    "GROUP BY activity_id\n",
    "HAVING COUNT(activity_id) > 1\n",
    "\"\"\"\n",
    "db = DbConnector()\n",
    "SQ2.query_to_db(db, duplicate_activities_query)\n",
    "db.close_connection"
   ]
  },
  {
   "cell_type": "markdown",
   "metadata": {},
   "source": [
    "## Question 7a: Find the number of users that have started an activity in one day and ended the activity the next day\n"
   ]
  },
  {
   "cell_type": "code",
   "execution_count": 26,
   "metadata": {},
   "outputs": [
    {
     "name": "stderr",
     "output_type": "stream",
     "text": [
      "2023-10-04 16:03:34,669 SQL PART2  INFO Executing: \n",
      "WITH result AS (\n",
      "    SELECT user_id\n",
      "    FROM Activity\n",
      "    WHERE DATE(start_date_time) != DATE(end_date_time)\n",
      ")\n",
      "SELECT DISTINCT user_id FROM result\n",
      ";\n",
      "\n"
     ]
    },
    {
     "name": "stdout",
     "output_type": "stream",
     "text": [
      "Connected to: 8.0.34-0ubuntu0.22.04.1\n",
      "You are connected to the database: ('main_db',)\n",
      "-----------------------------------------------\n",
      "\n",
      "Rows produced by statement 'WITH result AS (\n",
      "    SELECT user_id\n",
      "    FROM Activity\n",
      "    WHERE DATE(start_date_time) != DATE(end_date_time)\n",
      ")\n",
      "SELECT DISTINCT user_id FROM result':\n",
      "[('000',), ('001',), ('002',), ('003',), ('004',), ('005',), ('006',), ('007',), ('010',), ('011',), ('013',), ('014',), ('015',), ('016',), ('017',), ('018',), ('019',), ('020',), ('021',), ('022',), ('024',), ('025',), ('026',), ('027',), ('028',), ('029',), ('030',), ('032',), ('035',), ('036',), ('037',), ('038',), ('039',), ('041',), ('042',), ('043',), ('044',), ('050',), ('051',), ('052',), ('053',), ('057',), ('058',), ('061',), ('062',), ('067',), ('068',), ('069',), ('070',), ('071',), ('074',), ('076',), ('081',), ('082',), ('083',), ('084',), ('085',), ('088',), ('091',), ('092',), ('094',), ('095',), ('099',), ('100',), ('101',), ('103',), ('104',), ('106',), ('108',), ('111',), ('112',), ('113',), ('115',), ('118',), ('124',), ('125',), ('126',), ('128',), ('129',), ('132',), ('134',), ('138',), ('139',), ('140',), ('142',), ('144',), ('146',), ('147',), ('150',), ('153',), ('155',), ('157',), ('163',), ('167',), ('168',), ('172',), ('174',), ('175',)]\n"
     ]
    },
    {
     "data": {
      "text/plain": [
       "<bound method DbConnector.close_connection of <DbConnector.DbConnector object at 0x10ae12cd0>>"
      ]
     },
     "execution_count": 26,
     "metadata": {},
     "output_type": "execute_result"
    }
   ],
   "source": [
    "\n",
    "users_start_end_next_day_query = \"\"\"\n",
    "WITH result AS (\n",
    "    SELECT user_id\n",
    "    FROM Activity\n",
    "    WHERE DATE(start_date_time) != DATE(end_date_time)\n",
    ")\n",
    "SELECT DISTINCT user_id FROM result\n",
    ";\n",
    "\"\"\"\n",
    "db = DbConnector()\n",
    "SQ2.query_to_db(db, users_start_end_next_day_query)\n",
    "db.close_connection"
   ]
  },
  {
   "cell_type": "markdown",
   "metadata": {},
   "source": [
    "## Question 7b: List the transportation mode, user id, and duration for these activities"
   ]
  },
  {
   "cell_type": "code",
   "execution_count": 30,
   "metadata": {},
   "outputs": [
    {
     "name": "stderr",
     "output_type": "stream",
     "text": [
      "2023-10-05 11:33:55,112 SQL PART2  INFO Executing: \n",
      "WITH difference_seconds AS (\n",
      "    SELECT user_id, transportation_mode, TIMESTAMPDIFF(SECOND, start_date_time, end_date_time) AS seconds\n",
      "    FROM Activity\n",
      "    WHERE DATE(start_date_time) != DATE(end_date_time)\n",
      "),\n",
      "\n",
      "diff_clock AS (\n",
      "    SELECT \n",
      "        user_id, \n",
      "        transportation_mode,\n",
      "        seconds, \n",
      "        MOD(seconds, 60) AS seconds_p,\n",
      "        MOD(seconds, 60*60) AS minutes_p,\n",
      "        MOD(seconds, 60*60*24) AS hours_p\n",
      "    FROM\n",
      "        difference_seconds\n",
      ") \n",
      "\n",
      "SELECT\n",
      "    user_id,\n",
      "    transportation_mode,\n",
      "    CONCAT(\n",
      "        FLOOR(seconds / 3600 / 24), ' days ',\n",
      "        FLOOR(hours_p / 3600), ' hours ',\n",
      "        FLOOR(minutes_p / 60), ' minutes ',\n",
      "        seconds_p, ' seconds '\n",
      "    ) AS duration\n",
      "FROM diff_clock;\n",
      "\n"
     ]
    },
    {
     "name": "stdout",
     "output_type": "stream",
     "text": [
      "Connected to: 8.0.34-0ubuntu0.22.04.1\n",
      "You are connected to the database: ('main_db',)\n",
      "-----------------------------------------------\n",
      "\n",
      "Rows produced by statement 'WITH difference_seconds AS (\n",
      "    SELECT user_id, transportation_mode, TIMESTAMPDIFF(SECOND, start_date_time, end_date_time) AS seconds\n",
      "    FROM Activity\n",
      "    WHERE DATE(start_date_time) != DATE(end_date_time)\n",
      "),\n",
      "\n",
      "diff_clock AS (\n",
      "    SELECT \n",
      "        user_id, \n",
      "        transportation_mode,\n",
      "        seconds, \n",
      "        MOD(seconds, 60) AS seconds_p,\n",
      "        MOD(seconds, 60*60) AS minutes_p,\n",
      "        MOD(seconds, 60*60*24) AS hours_p\n",
      "    FROM\n",
      "        difference_seconds\n",
      ") \n",
      "\n",
      "SELECT\n",
      "    user_id,\n",
      "    transportation_mode,\n",
      "    CONCAT(\n",
      "        FLOOR(seconds / 3600 / 24), ' days ',\n",
      "        FLOOR(hours_p / 3600), ' hours ',\n",
      "        FLOOR(minutes_p / 60), ' minutes ',\n",
      "        seconds_p, ' seconds '\n",
      "    ) AS duration\n",
      "FROM diff_clock':\n",
      "[('175', None, '0 days 4 hours 39 minutes 44 seconds '), ('044', None, '0 days 2 hours 47 minutes 19 seconds '), ('044', None, '0 days 0 hours 47 minutes 15 seconds '), ('044', None, '0 days 0 hours 58 minutes 45 seconds '), ('044', None, '0 days 12 hours 14 minutes 12 seconds '), ('044', None, '0 days 14 hours 22 minutes 4 seconds '), ('044', None, '0 days 3 hours 0 minutes 45 seconds '), ('044', None, '0 days 6 hours 5 minutes 52 seconds '), ('044', None, '0 days 0 hours 40 minutes 50 seconds '), ('044', None, '0 days 2 hours 33 minutes 30 seconds '), ('044', None, '0 days 0 hours 9 minutes 20 seconds '), ('044', None, '0 days 7 hours 54 minutes 19 seconds '), ('044', None, '0 days 5 hours 43 minutes 45 seconds '), ('044', None, '0 days 1 hours 51 minutes 28 seconds '), ('051', None, '0 days 5 hours 46 minutes 53 seconds '), ('051', None, '1 days 5 hours 1 minutes 3 seconds '), ('011', None, '0 days 0 hours 26 minutes 25 seconds '), ('011', None, '0 days 0 hours 29 minutes 15 seconds '), ('011', None, '0 days 0 hours 34 minutes 25 seconds '), ('011', None, '0 days 0 hours 46 minutes 50 seconds '), ('174', None, '0 days 2 hours 19 minutes 51 seconds '), ('174', None, '0 days 1 hours 31 minutes 59 seconds '), ('129', None, '0 days 12 hours 34 minutes 15 seconds '), ('015', None, '0 days 10 hours 18 minutes 50 seconds '), ('015', None, '0 days 4 hours 11 minutes 55 seconds '), ('015', None, '0 days 3 hours 43 minutes 44 seconds '), ('015', None, '0 days 0 hours 41 minutes 15 seconds '), ('015', None, '0 days 10 hours 0 minutes 34 seconds '), ('015', None, '0 days 0 hours 51 minutes 45 seconds '), ('015', None, '0 days 0 hours 39 minutes 25 seconds '), ('015', None, '0 days 11 hours 33 minutes 1 seconds '), ('015', None, '0 days 0 hours 37 minutes 55 seconds '), ('015', None, '0 days 0 hours 52 minutes 45 seconds '), ('015', None, '0 days 0 hours 39 minutes 46 seconds '), ('015', None, '0 days 0 hours 45 minutes 45 seconds '), ('015', None, '0 days 0 hours 49 minutes 0 seconds '), ('015', None, '0 days 2 hours 39 minutes 40 seconds '), ('015', None, '0 days 10 hours 5 minutes 37 seconds '), ('015', None, '0 days 0 hours 38 minutes 25 seconds '), ('015', None, '0 days 0 hours 40 minutes 55 seconds '), ('015', None, '0 days 1 hours 14 minutes 44 seconds '), ('022', None, '0 days 5 hours 16 minutes 38 seconds '), ('022', None, '0 days 0 hours 29 minutes 30 seconds '), ('022', None, '0 days 0 hours 53 minutes 45 seconds '), ('022', None, '0 days 2 hours 7 minutes 10 seconds '), ('022', None, '0 days 1 hours 59 minutes 23 seconds '), ('022', None, '0 days 2 hours 45 minutes 37 seconds '), ('022', None, '0 days 1 hours 36 minutes 55 seconds '), ('153', None, '0 days 0 hours 8 minutes 37 seconds '), ('153', None, '0 days 3 hours 17 minutes 37 seconds '), ('153', None, '0 days 0 hours 16 minutes 1 seconds '), ('153', None, '0 days 0 hours 17 minutes 51 seconds '), ('153', None, '0 days 0 hours 34 minutes 7 seconds '), ('153', None, '0 days 0 hours 14 minutes 58 seconds '), ('153', None, '0 days 0 hours 22 minutes 52 seconds '), ('153', None, '0 days 0 hours 17 minutes 18 seconds '), ('153', None, '0 days 0 hours 12 minutes 9 seconds '), ('153', None, '0 days 0 hours 19 minutes 28 seconds '), ('153', None, '0 days 0 hours 15 minutes 7 seconds '), ('153', None, '0 days 0 hours 12 minutes 52 seconds '), ('153', None, '0 days 0 hours 18 minutes 48 seconds '), ('153', None, '0 days 0 hours 9 minutes 23 seconds '), ('153', None, '0 days 0 hours 20 minutes 4 seconds '), ('153', None, '0 days 0 hours 11 minutes 0 seconds '), ('153', None, '0 days 0 hours 16 minutes 39 seconds '), ('153', None, '0 days 0 hours 19 minutes 41 seconds '), ('153', None, '0 days 0 hours 20 minutes 29 seconds '), ('153', None, '0 days 0 hours 16 minutes 25 seconds '), ('153', None, '0 days 0 hours 19 minutes 4 seconds '), ('153', None, '0 days 0 hours 29 minutes 7 seconds '), ('153', None, '0 days 8 hours 29 minutes 9 seconds '), ('153', None, '0 days 2 hours 50 minutes 15 seconds '), ('153', None, '0 days 0 hours 13 minutes 54 seconds '), ('153', None, '0 days 0 hours 13 minutes 6 seconds '), ('153', None, '0 days 0 hours 25 minutes 17 seconds '), ('153', None, '0 days 4 hours 18 minutes 18 seconds '), ('153', None, '0 days 0 hours 52 minutes 34 seconds '), ('153', None, '0 days 0 hours 16 minutes 27 seconds '), ('153', None, '0 days 0 hours 15 minutes 33 seconds '), ('153', None, '0 days 0 hours 15 minutes 56 seconds '), ('153', None, '0 days 0 hours 16 minutes 5 seconds '), ('153', None, '0 days 0 hours 15 minutes 12 seconds '), ('153', None, '0 days 0 hours 12 minutes 19 seconds '), ('153', None, '0 days 0 hours 20 minutes 10 seconds '), ('153', None, '0 days 0 hours 36 minutes 27 seconds '), ('153', None, '0 days 0 hours 21 minutes 12 seconds '), ('153', None, '0 days 0 hours 18 minutes 58 seconds '), ('153', None, '0 days 0 hours 9 minutes 8 seconds '), ('153', None, '0 days 0 hours 41 minutes 1 seconds '), ('153', None, '0 days 0 hours 22 minutes 33 seconds '), ('153', None, '0 days 0 hours 16 minutes 38 seconds '), ('153', None, '0 days 0 hours 13 minutes 2 seconds '), ('153', None, '0 days 0 hours 12 minutes 20 seconds '), ('153', None, '0 days 0 hours 31 minutes 5 seconds '), ('153', None, '0 days 0 hours 16 minutes 43 seconds '), ('153', None, '0 days 0 hours 13 minutes 2 seconds '), ('153', None, '0 days 0 hours 15 minutes 41 seconds '), ('153', None, '0 days 0 hours 14 minutes 59 seconds '), ('153', None, '0 days 0 hours 6 minutes 30 seconds '), ('153', None, '0 days 10 hours 44 minutes 49 seconds '), ('153', None, '0 days 0 hours 21 minutes 47 seconds '), ('153', None, '0 days 0 hours 16 minutes 36 seconds '), ('153', None, '0 days 0 hours 12 minutes 42 seconds '), ('153', None, '0 days 0 hours 17 minutes 26 seconds '), ('153', None, '0 days 0 hours 16 minutes 22 seconds '), ('153', None, '0 days 0 hours 13 minutes 16 seconds '), ('153', None, '0 days 0 hours 19 minutes 31 seconds '), ('153', None, '0 days 0 hours 17 minutes 12 seconds '), ('153', None, '0 days 0 hours 17 minutes 7 seconds '), ('153', None, '0 days 0 hours 30 minutes 38 seconds '), ('153', None, '0 days 0 hours 10 minutes 31 seconds '), ('153', None, '0 days 10 hours 39 minutes 49 seconds '), ('153', None, '0 days 0 hours 16 minutes 29 seconds '), ('153', None, '0 days 0 hours 17 minutes 10 seconds '), ('153', None, '0 days 0 hours 17 minutes 55 seconds '), ('153', None, '0 days 0 hours 12 minutes 2 seconds '), ('153', None, '0 days 0 hours 13 minutes 47 seconds '), ('153', None, '0 days 0 hours 21 minutes 42 seconds '), ('153', None, '0 days 0 hours 19 minutes 15 seconds '), ('153', None, '0 days 0 hours 17 minutes 50 seconds '), ('153', None, '0 days 10 hours 9 minutes 57 seconds '), ('153', None, '0 days 0 hours 13 minutes 16 seconds '), ('153', None, '0 days 0 hours 14 minutes 11 seconds '), ('153', None, '0 days 0 hours 18 minutes 0 seconds '), ('153', None, '0 days 0 hours 12 minutes 44 seconds '), ('153', None, '0 days 0 hours 20 minutes 16 seconds '), ('153', None, '0 days 0 hours 11 minutes 27 seconds '), ('153', None, '0 days 0 hours 20 minutes 18 seconds '), ('153', None, '0 days 0 hours 15 minutes 30 seconds '), ('153', None, '0 days 0 hours 13 minutes 51 seconds '), ('153', None, '0 days 0 hours 15 minutes 13 seconds '), ('153', None, '0 days 0 hours 12 minutes 17 seconds '), ('153', None, '0 days 11 hours 39 minutes 31 seconds '), ('153', None, '0 days 0 hours 37 minutes 28 seconds '), ('153', None, '0 days 0 hours 16 minutes 56 seconds '), ('153', None, '0 days 0 hours 20 minutes 10 seconds '), ('153', None, '0 days 3 hours 2 minutes 8 seconds '), ('153', None, '0 days 0 hours 12 minutes 10 seconds '), ('153', None, '0 days 0 hours 12 minutes 4 seconds '), ('153', None, '0 days 0 hours 47 minutes 2 seconds '), ('153', None, '0 days 0 hours 15 minutes 17 seconds '), ('153', None, '0 days 8 hours 59 minutes 27 seconds '), ('153', None, '0 days 0 hours 15 minutes 59 seconds '), ('153', None, '0 days 0 hours 15 minutes 3 seconds '), ('153', None, '0 days 0 hours 12 minutes 7 seconds '), ('153', None, '0 days 9 hours 6 minutes 18 seconds '), ('153', None, '0 days 0 hours 19 minutes 12 seconds '), ('153', None, '0 days 0 hours 14 minutes 59 seconds '), ('153', None, '0 days 0 hours 17 minutes 53 seconds '), ('153', None, '0 days 0 hours 13 minutes 18 seconds '), ('153', None, '0 days 0 hours 14 minutes 44 seconds '), ('153', None, '0 days 0 hours 27 minutes 9 seconds '), ('153', None, '0 days 5 hours 42 minutes 40 seconds '), ('153', None, '0 days 0 hours 12 minutes 59 seconds '), ('153', None, '0 days 0 hours 16 minutes 14 seconds '), ('153', None, '0 days 0 hours 14 minutes 7 seconds '), ('153', None, '0 days 1 hours 23 minutes 42 seconds '), ('153', None, '0 days 0 hours 8 minutes 30 seconds '), ('153', None, '0 days 0 hours 8 minutes 10 seconds '), ('153', None, '0 days 0 hours 18 minutes 20 seconds '), ('153', None, '0 days 13 hours 4 minutes 46 seconds '), ('153', None, '0 days 0 hours 10 minutes 39 seconds '), ('153', None, '0 days 0 hours 15 minutes 28 seconds '), ('153', None, '0 days 0 hours 5 minutes 52 seconds '), ('153', None, '0 days 0 hours 37 minutes 29 seconds '), ('153', None, '0 days 0 hours 23 minutes 45 seconds '), ('153', None, '0 days 0 hours 10 minutes 11 seconds '), ('153', None, '0 days 0 hours 12 minutes 40 seconds '), ('153', None, '0 days 0 hours 15 minutes 18 seconds '), ('153', None, '0 days 1 hours 3 minutes 12 seconds '), ('153', None, '0 days 0 hours 22 minutes 47 seconds '), ('153', None, '0 days 0 hours 10 minutes 58 seconds '), ('153', None, '0 days 0 hours 11 minutes 38 seconds '), ('153', None, '0 days 0 hours 18 minutes 12 seconds '), ('153', None, '0 days 0 hours 12 minutes 48 seconds '), ('153', None, '0 days 0 hours 16 minutes 50 seconds '), ('153', None, '0 days 0 hours 7 minutes 33 seconds '), ('153', None, '0 days 0 hours 12 minutes 6 seconds '), ('153', None, '0 days 0 hours 11 minutes 38 seconds '), ('153', None, '0 days 0 hours 13 minutes 34 seconds '), ('153', None, '0 days 7 hours 52 minutes 24 seconds '), ('153', None, '0 days 0 hours 15 minutes 0 seconds '), ('153', None, '0 days 0 hours 6 minutes 25 seconds '), ('153', None, '0 days 0 hours 12 minutes 51 seconds '), ('153', None, '0 days 0 hours 14 minutes 58 seconds '), ('153', None, '0 days 0 hours 16 minutes 20 seconds '), ('153', None, '0 days 0 hours 10 minutes 32 seconds '), ('153', None, '0 days 0 hours 19 minutes 18 seconds '), ('153', None, '0 days 0 hours 14 minutes 2 seconds '), ('153', None, '0 days 9 hours 51 minutes 17 seconds '), ('153', None, '0 days 0 hours 15 minutes 35 seconds '), ('153', None, '0 days 0 hours 7 minutes 30 seconds '), ('153', None, '0 days 0 hours 18 minutes 45 seconds '), ('153', None, '0 days 0 hours 10 minutes 22 seconds '), ('153', None, '0 days 0 hours 21 minutes 59 seconds '), ('153', None, '0 days 0 hours 10 minutes 19 seconds '), ('153', None, '0 days 0 hours 16 minutes 26 seconds '), ('153', None, '0 days 0 hours 17 minutes 17 seconds '), ('153', None, '0 days 0 hours 8 minutes 25 seconds '), ('153', None, '0 days 0 hours 17 minutes 44 seconds '), ('153', None, '0 days 0 hours 22 minutes 6 seconds '), ('153', None, '0 days 0 hours 17 minutes 35 seconds '), ('153', None, '0 days 0 hours 17 minutes 47 seconds '), ('153', None, '0 days 0 hours 12 minutes 3 seconds '), ('153', None, '0 days 5 hours 59 minutes 35 seconds '), ('153', None, '0 days 0 hours 16 minutes 0 seconds '), ('153', None, '0 days 0 hours 11 minutes 19 seconds '), ('153', None, '0 days 0 hours 12 minutes 13 seconds '), ('153', None, '0 days 0 hours 16 minutes 37 seconds '), ('153', None, '0 days 0 hours 20 minutes 34 seconds '), ('153', None, '0 days 0 hours 48 minutes 20 seconds '), ('153', None, '0 days 0 hours 14 minutes 43 seconds '), ('153', None, '0 days 0 hours 16 minutes 57 seconds '), ('153', None, '0 days 0 hours 17 minutes 18 seconds '), ('153', None, '0 days 0 hours 16 minutes 25 seconds '), ('153', None, '0 days 0 hours 13 minutes 1 seconds '), ('153', None, '0 days 0 hours 4 minutes 44 seconds '), ('153', None, '0 days 0 hours 18 minutes 52 seconds '), ('153', None, '0 days 8 hours 16 minutes 2 seconds '), ('153', None, '0 days 0 hours 12 minutes 47 seconds '), ('153', None, '0 days 0 hours 13 minutes 2 seconds '), ('153', None, '0 days 0 hours 8 minutes 3 seconds '), ('153', None, '0 days 0 hours 16 minutes 53 seconds '), ('153', None, '0 days 0 hours 13 minutes 38 seconds '), ('153', None, '0 days 0 hours 17 minutes 11 seconds '), ('153', None, '0 days 0 hours 9 minutes 39 seconds '), ('153', None, '0 days 7 hours 34 minutes 1 seconds '), ('153', None, '0 days 2 hours 23 minutes 3 seconds '), ('153', None, '0 days 0 hours 16 minutes 9 seconds '), ('153', None, '0 days 0 hours 7 minutes 47 seconds '), ('153', None, '0 days 0 hours 12 minutes 5 seconds '), ('153', None, '0 days 0 hours 12 minutes 29 seconds '), ('153', None, '0 days 8 hours 45 minutes 39 seconds '), ('153', None, '0 days 0 hours 32 minutes 9 seconds '), ('153', None, '0 days 0 hours 14 minutes 28 seconds '), ('153', None, '0 days 0 hours 15 minutes 9 seconds '), ('153', None, '0 days 0 hours 43 minutes 9 seconds '), ('153', None, '0 days 0 hours 42 minutes 51 seconds '), ('153', None, '0 days 0 hours 17 minutes 28 seconds '), ('153', None, '0 days 0 hours 47 minutes 39 seconds '), ('153', None, '0 days 0 hours 12 minutes 56 seconds '), ('153', None, '0 days 0 hours 15 minutes 13 seconds '), ('153', None, '0 days 0 hours 15 minutes 21 seconds '), ('153', None, '0 days 2 hours 24 minutes 12 seconds '), ('153', None, '0 days 5 hours 46 minutes 35 seconds '), ('153', None, '0 days 2 hours 13 minutes 45 seconds '), ('153', None, '0 days 0 hours 14 minutes 11 seconds '), ('153', None, '0 days 0 hours 27 minutes 23 seconds '), ('153', None, '0 days 0 hours 13 minutes 7 seconds '), ('153', None, '0 days 0 hours 16 minutes 53 seconds '), ('153', None, '0 days 0 hours 9 minutes 17 seconds '), ('153', None, '0 days 0 hours 15 minutes 14 seconds '), ('153', None, '0 days 4 hours 15 minutes 51 seconds '), ('153', None, '0 days 0 hours 14 minutes 40 seconds '), ('153', None, '0 days 0 hours 9 minutes 7 seconds '), ('153', None, '0 days 0 hours 23 minutes 10 seconds '), ('153', None, '0 days 0 hours 21 minutes 23 seconds '), ('153', None, '0 days 0 hours 17 minutes 22 seconds '), ('153', None, '0 days 0 hours 8 minutes 13 seconds '), ('153', None, '0 days 0 hours 10 minutes 14 seconds '), ('153', None, '0 days 0 hours 26 minutes 53 seconds '), ('153', None, '0 days 0 hours 9 minutes 32 seconds '), ('153', None, '0 days 0 hours 54 minutes 30 seconds '), ('153', None, '0 days 6 hours 42 minutes 6 seconds '), ('153', None, '0 days 0 hours 21 minutes 43 seconds '), ('153', None, '0 days 0 hours 18 minutes 4 seconds '), ('153', None, '0 days 0 hours 37 minutes 59 seconds '), ('153', None, '0 days 0 hours 17 minutes 0 seconds '), ('153', None, '0 days 0 hours 15 minutes 37 seconds '), ('153', None, '0 days 0 hours 21 minutes 17 seconds '), ('153', None, '0 days 0 hours 18 minutes 58 seconds '), ('153', None, '0 days 0 hours 10 minutes 55 seconds '), ('153', None, '0 days 0 hours 23 minutes 19 seconds '), ('153', None, '0 days 0 hours 17 minutes 45 seconds '), ('153', None, '0 days 0 hours 54 minutes 58 seconds '), ('153', None, '0 days 0 hours 9 minutes 46 seconds '), ('153', None, '0 days 0 hours 22 minutes 13 seconds '), ('153', None, '0 days 0 hours 15 minutes 14 seconds '), ('153', None, '0 days 0 hours 14 minutes 11 seconds '), ('153', None, '0 days 0 hours 12 minutes 57 seconds '), ('153', None, '0 days 0 hours 19 minutes 1 seconds '), ('153', None, '0 days 2 hours 50 minutes 19 seconds '), ('153', None, '0 days 3 hours 53 minutes 52 seconds '), ('153', None, '0 days 11 hours 36 minutes 9 seconds '), ('010', None, '0 days 2 hours 12 minutes 13 seconds '), ('010', None, '0 days 2 hours 0 minutes 14 seconds '), ('010', None, '0 days 1 hours 18 minutes 3 seconds '), ('010', None, '0 days 1 hours 56 minutes 6 seconds '), ('010', None, '0 days 23 hours 30 minutes 13 seconds '), ('010', None, '0 days 2 hours 10 minutes 6 seconds '), ('010', None, '0 days 19 hours 35 minutes 27 seconds '), ('010', None, '0 days 2 hours 3 minutes 25 seconds '), ('010', None, '0 days 2 hours 14 minutes 42 seconds '), ('010', None, '0 days 1 hours 50 minutes 4 seconds '), ('010', None, '0 days 1 hours 23 minutes 45 seconds '), ('010', None, '0 days 2 hours 6 minutes 1 seconds '), ('010', None, '0 days 1 hours 57 minutes 14 seconds '), ('010', None, '0 days 1 hours 55 minutes 15 seconds '), ('010', None, '0 days 23 hours 59 minutes 47 seconds '), ('010', None, '0 days 1 hours 25 minutes 15 seconds '), ('010', None, '0 days 2 hours 3 minutes 58 seconds '), ('010', None, '0 days 1 hours 18 minutes 14 seconds '), ('010', None, '0 days 1 hours 32 minutes 40 seconds '), ('155', None, '0 days 12 hours 40 minutes 25 seconds '), ('155', None, '0 days 0 hours 47 minutes 9 seconds '), ('128', None, '0 days 0 hours 36 minutes 16 seconds '), ('128', 'car', '0 days 1 hours 4 minutes 19 seconds '), ('128', 'car', '0 days 0 hours 44 minutes 11 seconds '), ('128', None, '0 days 0 hours 39 minutes 10 seconds '), ('128', None, '0 days 10 hours 44 minutes 49 seconds '), ('128', None, '0 days 0 hours 42 minutes 9 seconds '), ('128', None, '0 days 8 hours 49 minutes 25 seconds '), ('128', None, '0 days 1 hours 40 minutes 5 seconds '), ('128', None, '0 days 3 hours 2 minutes 49 seconds '), ('128', None, '0 days 0 hours 13 minutes 37 seconds '), ('128', None, '0 days 5 hours 51 minutes 56 seconds '), ('128', None, '0 days 0 hours 37 minutes 7 seconds '), ('128', None, '0 days 3 hours 56 minutes 49 seconds '), ('128', 'airplane', '0 days 5 hours 31 minutes 49 seconds '), ('128', None, '0 days 13 hours 3 minutes 51 seconds '), ('128', 'bus', '0 days 0 hours 58 minutes 44 seconds '), ('128', 'car', '0 days 1 hours 40 minutes 4 seconds '), ('128', None, '0 days 3 hours 50 minutes 42 seconds '), ('128', None, '0 days 0 hours 43 minutes 38 seconds '), ('128', None, '0 days 6 hours 3 minutes 35 seconds '), ('128', None, '0 days 6 hours 10 minutes 56 seconds '), ('128', 'subway', '0 days 0 hours 30 minutes 57 seconds '), ('128', None, '0 days 1 hours 38 minutes 58 seconds '), ('128', None, '0 days 5 hours 51 minutes 12 seconds '), ('128', None, '0 days 3 hours 8 minutes 31 seconds '), ('128', None, '0 days 2 hours 24 minutes 12 seconds '), ('128', None, '0 days 0 hours 51 minutes 7 seconds '), ('128', None, '0 days 2 hours 17 minutes 59 seconds '), ('128', 'subway', '0 days 0 hours 27 minutes 26 seconds '), ('128', None, '0 days 12 hours 53 minutes 24 seconds '), ('128', 'car', '0 days 0 hours 33 minutes 8 seconds '), ('128', None, '0 days 6 hours 16 minutes 1 seconds '), ('128', None, '0 days 0 hours 2 minutes 48 seconds '), ('106', None, '0 days 15 hours 30 minutes 40 seconds '), ('106', None, '0 days 13 hours 36 minutes 8 seconds '), ('147', None, '0 days 4 hours 0 minutes 35 seconds '), ('147', None, '0 days 3 hours 31 minutes 15 seconds '), ('027', None, '0 days 15 hours 48 minutes 55 seconds '), ('125', None, '0 days 0 hours 41 minutes 29 seconds '), ('125', None, '0 days 5 hours 15 minutes 38 seconds '), ('125', None, '0 days 1 hours 4 minutes 44 seconds '), ('084', None, '0 days 1 hours 11 minutes 5 seconds '), ('084', None, '0 days 9 hours 40 minutes 48 seconds '), ('084', None, '0 days 5 hours 1 minutes 40 seconds '), ('084', None, '0 days 1 hours 22 minutes 0 seconds '), ('084', None, '0 days 3 hours 8 minutes 20 seconds '), ('084', None, '0 days 2 hours 31 minutes 37 seconds '), ('084', None, '0 days 1 hours 26 minutes 30 seconds '), ('084', None, '0 days 1 hours 6 minutes 51 seconds '), ('084', None, '0 days 6 hours 45 minutes 55 seconds '), ('084', None, '0 days 1 hours 22 minutes 20 seconds '), ('084', None, '0 days 1 hours 28 minutes 31 seconds '), ('084', None, '0 days 1 hours 28 minutes 20 seconds '), ('084', None, '0 days 0 hours 53 minutes 34 seconds '), ('084', None, '0 days 1 hours 7 minutes 35 seconds '), ('084', None, '0 days 2 hours 30 minutes 15 seconds '), ('084', None, '0 days 1 hours 20 minutes 36 seconds '), ('084', None, '0 days 1 hours 16 minutes 50 seconds '), ('084', None, '0 days 4 hours 37 minutes 6 seconds '), ('084', None, '0 days 1 hours 26 minutes 30 seconds '), ('084', None, '0 days 1 hours 12 minutes 30 seconds '), ('084', None, '0 days 1 hours 30 minutes 30 seconds '), ('084', None, '0 days 1 hours 16 minutes 1 seconds '), ('084', None, '0 days 3 hours 5 minutes 48 seconds '), ('084', None, '0 days 1 hours 18 minutes 50 seconds '), ('084', None, '0 days 1 hours 58 minutes 2 seconds '), ('084', None, '0 days 1 hours 7 minutes 28 seconds '), ('084', None, '0 days 1 hours 8 minutes 34 seconds '), ('084', None, '0 days 3 hours 2 minutes 20 seconds '), ('084', None, '0 days 0 hours 37 minutes 35 seconds '), ('084', None, '0 days 0 hours 40 minutes 4 seconds '), ('084', None, '0 days 1 hours 2 minutes 20 seconds '), ('084', None, '0 days 1 hours 11 minutes 11 seconds '), ('084', None, '0 days 0 hours 53 minutes 35 seconds '), ('084', None, '0 days 1 hours 3 minutes 4 seconds '), ('084', None, '0 days 1 hours 15 minutes 1 seconds '), ('030', None, '0 days 16 hours 21 minutes 21 seconds '), ('030', None, '0 days 14 hours 21 minutes 4 seconds '), ('030', None, '0 days 15 hours 39 minutes 18 seconds '), ('030', None, '0 days 4 hours 21 minutes 34 seconds '), ('030', None, '0 days 13 hours 10 minutes 8 seconds '), ('030', None, '0 days 15 hours 27 minutes 18 seconds '), ('030', None, '0 days 11 hours 48 minutes 4 seconds '), ('030', None, '0 days 0 hours 15 minutes 33 seconds '), ('030', None, '0 days 18 hours 40 minutes 32 seconds '), ('030', None, '0 days 4 hours 36 minutes 26 seconds '), ('030', None, '0 days 2 hours 6 minutes 48 seconds '), ('030', None, '0 days 3 hours 46 minutes 24 seconds '), ('035', None, '0 days 16 hours 26 minutes 2 seconds '), ('035', None, '0 days 16 hours 19 minutes 9 seconds '), ('035', None, '0 days 8 hours 25 minutes 30 seconds '), ('035', None, '0 days 15 hours 10 minutes 56 seconds '), ('035', None, '0 days 15 hours 45 minutes 19 seconds '), ('035', None, '0 days 8 hours 42 minutes 30 seconds '), ('035', None, '0 days 17 hours 4 minutes 54 seconds '), ('035', None, '0 days 16 hours 15 minutes 41 seconds '), ('035', None, '0 days 16 hours 20 minutes 42 seconds '), ('035', None, '0 days 8 hours 24 minutes 35 seconds '), ('035', None, '0 days 5 hours 55 minutes 21 seconds '), ('061', None, '0 days 1 hours 0 minutes 42 seconds '), ('061', None, '0 days 1 hours 32 minutes 39 seconds '), ('061', None, '0 days 1 hours 14 minutes 44 seconds '), ('061', None, '0 days 1 hours 13 minutes 23 seconds '), ('061', None, '0 days 1 hours 10 minutes 30 seconds '), ('061', None, '0 days 1 hours 11 minutes 49 seconds '), ('018', None, '0 days 1 hours 10 minutes 18 seconds '), ('018', None, '0 days 4 hours 54 minutes 12 seconds '), ('018', None, '0 days 4 hours 48 minutes 53 seconds '), ('085', None, '0 days 0 hours 27 minutes 47 seconds '), ('085', None, '0 days 0 hours 57 minutes 7 seconds '), ('085', None, '0 days 0 hours 19 minutes 54 seconds '), ('085', None, '0 days 0 hours 54 minutes 10 seconds '), ('085', None, '0 days 4 hours 33 minutes 43 seconds '), ('085', None, '0 days 0 hours 20 minutes 35 seconds '), ('085', None, '0 days 0 hours 58 minutes 20 seconds '), ('085', None, '0 days 5 hours 24 minutes 41 seconds '), ('085', None, '0 days 0 hours 42 minutes 58 seconds '), ('085', None, '0 days 0 hours 42 minutes 56 seconds '), ('085', None, '0 days 2 hours 39 minutes 58 seconds '), ('085', None, '0 days 5 hours 42 minutes 29 seconds '), ('085', None, '0 days 11 hours 11 minutes 25 seconds '), ('085', None, '0 days 0 hours 41 minutes 12 seconds '), ('085', None, '0 days 0 hours 42 minutes 30 seconds '), ('085', None, '0 days 0 hours 36 minutes 26 seconds '), ('085', None, '0 days 1 hours 16 minutes 1 seconds '), ('085', None, '0 days 0 hours 55 minutes 20 seconds '), ('085', None, '0 days 1 hours 12 minutes 55 seconds '), ('085', None, '0 days 0 hours 20 minutes 43 seconds '), ('085', None, '0 days 0 hours 30 minutes 48 seconds '), ('085', None, '0 days 8 hours 56 minutes 29 seconds '), ('085', None, '0 days 1 hours 8 minutes 34 seconds '), ('085', None, '0 days 1 hours 16 minutes 21 seconds '), ('085', None, '0 days 1 hours 43 minutes 42 seconds '), ('085', 'bus', '0 days 0 hours 58 minutes 25 seconds '), ('085', None, '0 days 0 hours 39 minutes 3 seconds '), ('085', None, '0 days 7 hours 21 minutes 38 seconds '), ('085', None, '0 days 10 hours 49 minutes 54 seconds '), ('085', None, '0 days 1 hours 10 minutes 15 seconds '), ('085', None, '0 days 0 hours 44 minutes 28 seconds '), ('085', None, '0 days 2 hours 16 minutes 22 seconds '), ('088', None, '0 days 0 hours 29 minutes 15 seconds '), ('088', None, '0 days 0 hours 46 minutes 50 seconds '), ('095', None, '0 days 14 hours 33 minutes 50 seconds '), ('083', None, '0 days 0 hours 22 minutes 21 seconds '), ('083', None, '0 days 3 hours 5 minutes 56 seconds '), ('083', None, '0 days 12 hours 53 minutes 19 seconds '), ('144', None, '1 days 4 hours 28 minutes 34 seconds '), ('144', None, '0 days 1 hours 30 minutes 57 seconds '), ('144', None, '0 days 11 hours 36 minutes 27 seconds '), ('144', None, '0 days 0 hours 5 minutes 47 seconds '), ('144', None, '0 days 2 hours 18 minutes 28 seconds '), ('144', None, '0 days 0 hours 6 minutes 20 seconds '), ('144', None, '0 days 0 hours 7 minutes 41 seconds '), ('144', None, '0 days 0 hours 6 minutes 50 seconds '), ('144', None, '0 days 0 hours 6 minutes 48 seconds '), ('144', None, '0 days 0 hours 7 minutes 10 seconds '), ('144', None, '0 days 0 hours 6 minutes 53 seconds '), ('144', None, '0 days 0 hours 18 minutes 24 seconds '), ('144', None, '0 days 0 hours 24 minutes 20 seconds '), ('144', None, '0 days 10 hours 21 minutes 5 seconds '), ('144', None, '0 days 0 hours 27 minutes 20 seconds '), ('144', None, '0 days 0 hours 5 minutes 57 seconds '), ('144', None, '0 days 13 hours 58 minutes 51 seconds '), ('144', None, '0 days 0 hours 20 minutes 52 seconds '), ('144', None, '0 days 10 hours 8 minutes 49 seconds '), ('144', None, '0 days 0 hours 3 minutes 37 seconds '), ('144', None, '0 days 0 hours 10 minutes 45 seconds '), ('144', None, '0 days 0 hours 7 minutes 20 seconds '), ('144', None, '0 days 0 hours 28 minutes 11 seconds '), ('144', None, '0 days 0 hours 11 minutes 40 seconds '), ('144', None, '0 days 1 hours 23 minutes 8 seconds '), ('144', None, '1 days 2 hours 28 minutes 35 seconds '), ('144', None, '0 days 0 hours 7 minutes 3 seconds '), ('144', None, '0 days 0 hours 5 minutes 47 seconds '), ('144', None, '0 days 0 hours 5 minutes 31 seconds '), ('144', None, '0 days 0 hours 6 minutes 35 seconds '), ('144', None, '0 days 0 hours 5 minutes 50 seconds '), ('144', None, '0 days 0 hours 4 minutes 24 seconds '), ('144', None, '0 days 0 hours 2 minutes 13 seconds '), ('144', None, '0 days 10 hours 24 minutes 35 seconds '), ('144', None, '0 days 0 hours 7 minutes 29 seconds '), ('144', None, '0 days 0 hours 6 minutes 41 seconds '), ('144', None, '0 days 0 hours 17 minutes 0 seconds '), ('144', None, '0 days 4 hours 20 minutes 14 seconds '), ('144', None, '0 days 3 hours 35 minutes 43 seconds '), ('144', None, '0 days 4 hours 36 minutes 57 seconds '), ('144', None, '0 days 0 hours 6 minutes 9 seconds '), ('144', None, '0 days 0 hours 17 minutes 52 seconds '), ('144', None, '0 days 1 hours 12 minutes 46 seconds '), ('144', None, '0 days 6 hours 35 minutes 34 seconds '), ('144', None, '0 days 6 hours 3 minutes 14 seconds '), ('144', None, '0 days 0 hours 2 minutes 52 seconds '), ('144', None, '0 days 0 hours 48 minutes 28 seconds '), ('144', None, '0 days 1 hours 4 minutes 30 seconds '), ('140', None, '0 days 21 hours 58 minutes 53 seconds '), ('140', None, '0 days 2 hours 20 minutes 14 seconds '), ('140', None, '0 days 6 hours 4 minutes 25 seconds '), ('140', None, '0 days 9 hours 1 minutes 24 seconds '), ('140', None, '0 days 8 hours 5 minutes 44 seconds '), ('029', None, '0 days 0 hours 32 minutes 32 seconds '), ('029', None, '0 days 0 hours 34 minutes 52 seconds '), ('029', None, '0 days 1 hours 32 minutes 6 seconds '), ('029', None, '0 days 0 hours 59 minutes 20 seconds '), ('029', None, '0 days 1 hours 13 minutes 42 seconds '), ('029', None, '0 days 1 hours 10 minutes 28 seconds '), ('029', None, '0 days 1 hours 16 minutes 29 seconds '), ('029', None, '0 days 0 hours 30 minutes 10 seconds '), ('029', None, '0 days 1 hours 10 minutes 0 seconds '), ('029', None, '0 days 0 hours 50 minutes 26 seconds '), ('029', None, '0 days 0 hours 50 minutes 19 seconds '), ('029', None, '0 days 0 hours 38 minutes 1 seconds '), ('029', None, '0 days 1 hours 18 minutes 27 seconds '), ('029', None, '0 days 1 hours 1 minutes 35 seconds '), ('029', None, '0 days 0 hours 52 minutes 0 seconds '), ('029', None, '0 days 1 hours 9 minutes 15 seconds '), ('029', None, '0 days 1 hours 14 minutes 56 seconds '), ('029', None, '0 days 1 hours 8 minutes 3 seconds '), ('028', None, '0 days 0 hours 41 minutes 30 seconds '), ('028', None, '0 days 2 hours 52 minutes 35 seconds '), ('028', None, '0 days 3 hours 40 minutes 16 seconds '), ('028', None, '0 days 14 hours 44 minutes 17 seconds '), ('028', None, '0 days 1 hours 46 minutes 51 seconds '), ('028', None, '0 days 4 hours 48 minutes 23 seconds '), ('028', None, '0 days 1 hours 54 minutes 45 seconds '), ('028', None, '0 days 4 hours 0 minutes 34 seconds '), ('028', None, '0 days 0 hours 2 minutes 7 seconds '), ('028', None, '0 days 1 hours 38 minutes 29 seconds '), ('028', None, '0 days 4 hours 39 minutes 52 seconds '), ('028', None, '0 days 2 hours 22 minutes 21 seconds '), ('028', None, '0 days 1 hours 44 minutes 45 seconds '), ('028', None, '0 days 3 hours 58 minutes 51 seconds '), ('028', None, '0 days 1 hours 38 minutes 50 seconds '), ('028', None, '1 days 5 hours 12 minutes 45 seconds '), ('028', None, '0 days 1 hours 42 minutes 29 seconds '), ('028', None, '0 days 3 hours 16 minutes 20 seconds '), ('028', None, '0 days 1 hours 33 minutes 0 seconds '), ('124', None, '0 days 1 hours 18 minutes 14 seconds '), ('058', 'car', '0 days 0 hours 36 minutes 12 seconds '), ('118', None, '0 days 16 hours 22 minutes 47 seconds '), ('068', None, '0 days 0 hours 25 minutes 14 seconds '), ('068', None, '0 days 0 hours 24 minutes 48 seconds '), ('068', None, '0 days 5 hours 58 minutes 10 seconds '), ('068', None, '0 days 0 hours 18 minutes 16 seconds '), ('068', None, '0 days 2 hours 44 minutes 19 seconds '), ('068', None, '0 days 0 hours 20 minutes 48 seconds '), ('068', None, '0 days 2 hours 19 minutes 37 seconds '), ('068', None, '0 days 4 hours 54 minutes 22 seconds '), ('068', None, '0 days 0 hours 27 minutes 44 seconds '), ('068', None, '0 days 0 hours 21 minutes 1 seconds '), ('068', None, '0 days 5 hours 21 minutes 10 seconds '), ('068', None, '0 days 0 hours 32 minutes 50 seconds '), ('068', None, '0 days 3 hours 24 minutes 43 seconds '), ('068', None, '0 days 0 hours 31 minutes 42 seconds '), ('068', None, '0 days 4 hours 50 minutes 3 seconds '), ('068', None, '0 days 0 hours 16 minutes 4 seconds '), ('068', None, '0 days 1 hours 3 minutes 52 seconds '), ('068', None, '0 days 0 hours 18 minutes 39 seconds '), ('068', None, '0 days 0 hours 17 minutes 34 seconds '), ('068', None, '0 days 0 hours 25 minutes 56 seconds '), ('068', None, '0 days 0 hours 22 minutes 10 seconds '), ('068', None, '0 days 0 hours 25 minutes 34 seconds '), ('068', None, '0 days 0 hours 32 minutes 10 seconds '), ('068', None, '0 days 0 hours 39 minutes 7 seconds '), ('068', None, '0 days 9 hours 41 minutes 20 seconds '), ('068', None, '0 days 1 hours 25 minutes 50 seconds '), ('068', None, '0 days 0 hours 29 minutes 57 seconds '), ('068', None, '0 days 0 hours 25 minutes 0 seconds '), ('068', None, '0 days 0 hours 3 minutes 58 seconds '), ('068', None, '0 days 0 hours 26 minutes 54 seconds '), ('068', None, '0 days 0 hours 41 minutes 35 seconds '), ('068', None, '0 days 0 hours 27 minutes 44 seconds '), ('068', None, '0 days 1 hours 15 minutes 37 seconds '), ('068', None, '0 days 0 hours 22 minutes 9 seconds '), ('068', None, '0 days 0 hours 50 minutes 57 seconds '), ('068', None, '0 days 1 hours 46 minutes 48 seconds '), ('068', None, '0 days 0 hours 25 minutes 14 seconds '), ('068', None, '0 days 0 hours 6 minutes 20 seconds '), ('068', None, '0 days 5 hours 40 minutes 24 seconds '), ('068', None, '0 days 0 hours 18 minutes 45 seconds '), ('068', None, '0 days 2 hours 38 minutes 25 seconds '), ('068', None, '0 days 0 hours 21 minutes 43 seconds '), ('068', None, '0 days 5 hours 17 minutes 44 seconds '), ('068', None, '0 days 0 hours 25 minutes 48 seconds '), ('068', None, '0 days 1 hours 17 minutes 40 seconds '), ('068', None, '0 days 6 hours 58 minutes 39 seconds '), ('068', None, '0 days 0 hours 24 minutes 31 seconds '), ('068', None, '0 days 0 hours 17 minutes 4 seconds '), ('068', None, '0 days 1 hours 38 minutes 40 seconds '), ('068', None, '0 days 0 hours 26 minutes 6 seconds '), ('068', None, '0 days 0 hours 23 minutes 21 seconds '), ('068', None, '0 days 5 hours 40 minutes 55 seconds '), ('068', None, '0 days 0 hours 30 minutes 52 seconds '), ('068', None, '0 days 0 hours 26 minutes 47 seconds '), ('068', None, '0 days 0 hours 21 minutes 18 seconds '), ('068', None, '0 days 2 hours 5 minutes 36 seconds '), ('068', None, '0 days 0 hours 36 minutes 28 seconds '), ('068', None, '0 days 0 hours 25 minutes 47 seconds '), ('068', None, '0 days 1 hours 30 minutes 14 seconds '), ('036', None, '0 days 11 hours 15 minutes 28 seconds '), ('036', None, '0 days 11 hours 28 minutes 49 seconds '), ('036', None, '0 days 1 hours 28 minutes 2 seconds '), ('076', None, '0 days 1 hours 57 minutes 3 seconds '), ('163', None, '0 days 1 hours 32 minutes 7 seconds '), ('163', None, '0 days 0 hours 22 minutes 52 seconds '), ('163', None, '0 days 0 hours 16 minutes 39 seconds '), ('163', None, '0 days 8 hours 29 minutes 9 seconds '), ('163', None, '0 days 0 hours 16 minutes 36 seconds '), ('163', None, '0 days 0 hours 43 minutes 59 seconds '), ('163', None, '0 days 0 hours 12 minutes 42 seconds '), ('163', None, '0 days 2 hours 58 minutes 29 seconds '), ('163', None, '0 days 3 hours 31 minutes 34 seconds '), ('163', None, '0 days 0 hours 19 minutes 15 seconds '), ('163', None, '0 days 10 hours 9 minutes 57 seconds '), ('163', None, '0 days 9 hours 29 minutes 5 seconds '), ('163', None, '0 days 0 hours 12 minutes 59 seconds '), ('163', None, '0 days 9 hours 51 minutes 54 seconds '), ('163', None, '0 days 0 hours 16 minutes 0 seconds '), ('163', 'bike', '0 days 0 hours 11 minutes 18 seconds '), ('163', None, '0 days 1 hours 46 minutes 7 seconds '), ('163', None, '0 days 12 hours 41 minutes 20 seconds '), ('163', None, '0 days 0 hours 17 minutes 22 seconds '), ('163', None, '0 days 0 hours 8 minutes 13 seconds '), ('163', None, '0 days 12 hours 43 minutes 1 seconds '), ('163', None, '0 days 7 hours 44 minutes 16 seconds '), ('163', None, '0 days 0 hours 19 minutes 14 seconds '), ('163', None, '0 days 6 hours 42 minutes 6 seconds '), ('062', 'walk', '0 days 1 hours 23 minutes 44 seconds '), ('062', None, '0 days 2 hours 56 minutes 20 seconds '), ('062', None, '0 days 1 hours 52 minutes 31 seconds '), ('062', None, '0 days 0 hours 41 minutes 56 seconds '), ('139', None, '0 days 8 hours 15 minutes 11 seconds '), ('139', None, '0 days 1 hours 13 minutes 47 seconds '), ('150', None, '0 days 4 hours 23 minutes 53 seconds '), ('150', None, '0 days 1 hours 19 minutes 2 seconds '), ('150', None, '0 days 1 hours 17 minutes 59 seconds '), ('150', None, '0 days 1 hours 9 minutes 29 seconds '), ('150', None, '0 days 0 hours 48 minutes 17 seconds '), ('150', None, '0 days 1 hours 17 minutes 45 seconds '), ('014', None, '0 days 0 hours 55 minutes 29 seconds '), ('014', None, '0 days 0 hours 44 minutes 15 seconds '), ('014', None, '0 days 0 hours 41 minutes 26 seconds '), ('014', None, '0 days 0 hours 44 minutes 20 seconds '), ('014', None, '0 days 0 hours 11 minutes 50 seconds '), ('014', None, '0 days 8 hours 9 minutes 49 seconds '), ('014', None, '0 days 9 hours 30 minutes 39 seconds '), ('014', None, '0 days 0 hours 10 minutes 29 seconds '), ('014', None, '0 days 4 hours 54 minutes 37 seconds '), ('014', None, '0 days 0 hours 47 minutes 53 seconds '), ('014', None, '0 days 0 hours 46 minutes 45 seconds '), ('014', None, '0 days 0 hours 42 minutes 4 seconds '), ('014', None, '0 days 0 hours 15 minutes 58 seconds '), ('014', None, '0 days 0 hours 40 minutes 31 seconds '), ('014', None, '0 days 0 hours 18 minutes 47 seconds '), ('014', None, '0 days 0 hours 45 minutes 13 seconds '), ('014', None, '0 days 2 hours 6 minutes 45 seconds '), ('014', None, '0 days 1 hours 7 minutes 24 seconds '), ('014', None, '0 days 0 hours 16 minutes 57 seconds '), ('014', None, '0 days 0 hours 47 minutes 11 seconds '), ('014', None, '0 days 0 hours 37 minutes 56 seconds '), ('014', None, '0 days 2 hours 9 minutes 16 seconds '), ('014', None, '0 days 0 hours 47 minutes 43 seconds '), ('014', None, '0 days 0 hours 34 minutes 56 seconds '), ('014', None, '0 days 0 hours 36 minutes 19 seconds '), ('014', None, '0 days 1 hours 17 minutes 25 seconds '), ('014', None, '0 days 0 hours 42 minutes 57 seconds '), ('014', None, '0 days 0 hours 51 minutes 36 seconds '), ('014', None, '0 days 0 hours 58 minutes 56 seconds '), ('014', None, '0 days 12 hours 5 minutes 20 seconds '), ('067', None, '0 days 5 hours 7 minutes 41 seconds '), ('067', None, '0 days 14 hours 33 minutes 50 seconds '), ('138', None, '0 days 0 hours 20 minutes 32 seconds '), ('115', 'car', '0 days 1 hours 3 minutes 29 seconds '), ('115', 'car', '0 days 1 hours 2 minutes 50 seconds '), ('115', None, '0 days 0 hours 54 minutes 58 seconds '), ('115', 'car', '0 days 1 hours 17 minutes 13 seconds '), ('115', 'car', '0 days 1 hours 3 minutes 47 seconds '), ('115', 'car', '0 days 7 hours 46 minutes 29 seconds '), ('115', 'car', '0 days 1 hours 5 minutes 39 seconds '), ('115', 'car', '0 days 1 hours 28 minutes 4 seconds '), ('115', 'car', '0 days 1 hours 8 minutes 43 seconds '), ('115', 'car', '0 days 0 hours 55 minutes 50 seconds '), ('115', 'car', '0 days 1 hours 9 minutes 36 seconds '), ('115', 'car', '0 days 1 hours 24 minutes 8 seconds '), ('115', 'car', '0 days 0 hours 54 minutes 9 seconds '), ('115', None, '0 days 1 hours 12 minutes 54 seconds '), ('115', None, '0 days 1 hours 1 minutes 18 seconds '), ('115', 'car', '0 days 1 hours 8 minutes 14 seconds '), ('115', None, '0 days 8 hours 58 minutes 9 seconds '), ('115', None, '0 days 1 hours 6 minutes 44 seconds '), ('115', 'car', '0 days 1 hours 1 minutes 33 seconds '), ('115', 'car', '0 days 1 hours 5 minutes 10 seconds '), ('115', 'car', '0 days 0 hours 57 minutes 48 seconds '), ('115', None, '0 days 0 hours 54 minutes 33 seconds '), ('115', 'car', '0 days 0 hours 58 minutes 19 seconds '), ('115', 'car', '0 days 1 hours 1 minutes 42 seconds '), ('115', None, '0 days 3 hours 27 minutes 28 seconds '), ('115', 'car', '0 days 1 hours 23 minutes 14 seconds '), ('115', None, '0 days 0 hours 29 minutes 18 seconds '), ('115', 'car', '0 days 1 hours 0 minutes 56 seconds '), ('074', None, '0 days 0 hours 24 minutes 59 seconds '), ('082', None, '0 days 4 hours 29 minutes 28 seconds '), ('082', None, '0 days 9 hours 5 minutes 16 seconds '), ('104', None, '0 days 10 hours 8 minutes 32 seconds '), ('104', None, '0 days 2 hours 35 minutes 7 seconds '), ('104', None, '0 days 2 hours 28 minutes 18 seconds '), ('104', None, '0 days 8 hours 51 minutes 45 seconds '), ('104', None, '0 days 12 hours 3 minutes 28 seconds '), ('070', None, '0 days 3 hours 5 minutes 57 seconds '), ('070', None, '0 days 0 hours 55 minutes 5 seconds '), ('026', None, '0 days 0 hours 45 minutes 40 seconds '), ('038', None, '0 days 2 hours 26 minutes 40 seconds '), ('038', None, '0 days 5 hours 40 minutes 51 seconds '), ('038', None, '0 days 0 hours 54 minutes 15 seconds '), ('038', None, '0 days 1 hours 47 minutes 53 seconds '), ('038', None, '0 days 1 hours 46 minutes 56 seconds '), ('038', None, '0 days 14 hours 29 minutes 22 seconds '), ('038', None, '0 days 6 hours 3 minutes 1 seconds '), ('092', None, '0 days 1 hours 17 minutes 58 seconds '), ('092', None, '0 days 19 hours 30 minutes 25 seconds '), ('092', None, '0 days 0 hours 20 minutes 53 seconds '), ('092', None, '0 days 15 hours 56 minutes 29 seconds '), ('043', None, '0 days 2 hours 43 minutes 15 seconds '), ('043', None, '0 days 2 hours 40 minutes 46 seconds '), ('024', None, '0 days 1 hours 9 minutes 15 seconds '), ('024', None, '0 days 0 hours 45 minutes 55 seconds '), ('024', None, '0 days 10 hours 31 minutes 19 seconds '), ('024', None, '0 days 0 hours 42 minutes 17 seconds '), ('024', None, '0 days 0 hours 58 minutes 0 seconds '), ('021', None, '0 days 16 hours 18 minutes 53 seconds '), ('021', 'walk', '0 days 3 hours 57 minutes 13 seconds '), ('006', None, '0 days 18 hours 34 minutes 52 seconds '), ('042', None, '0 days 0 hours 51 minutes 29 seconds '), ('132', None, '0 days 0 hours 57 minutes 30 seconds '), ('100', None, '0 days 0 hours 13 minutes 20 seconds '), ('081', None, '0 days 1 hours 4 minutes 44 seconds '), ('113', None, '0 days 0 hours 52 minutes 50 seconds '), ('113', None, '0 days 0 hours 52 minutes 20 seconds '), ('005', None, '0 days 8 hours 21 minutes 1 seconds '), ('094', None, '0 days 4 hours 23 minutes 53 seconds '), ('094', None, '0 days 1 hours 19 minutes 2 seconds '), ('094', None, '0 days 1 hours 17 minutes 59 seconds '), ('094', None, '0 days 1 hours 9 minutes 29 seconds '), ('094', None, '0 days 0 hours 48 minutes 17 seconds '), ('094', None, '0 days 1 hours 17 minutes 45 seconds '), ('091', None, '0 days 7 hours 56 minutes 19 seconds '), ('091', None, '0 days 5 hours 48 minutes 54 seconds '), ('000', None, '0 days 4 hours 9 minutes 15 seconds '), ('000', None, '0 days 16 hours 24 minutes 6 seconds '), ('000', None, '0 days 0 hours 10 minutes 45 seconds '), ('000', None, '0 days 1 hours 43 minutes 20 seconds '), ('000', None, '0 days 11 hours 3 minutes 55 seconds '), ('052', None, '0 days 1 hours 29 minutes 7 seconds '), ('052', None, '0 days 3 hours 0 minutes 48 seconds '), ('052', None, '0 days 1 hours 19 minutes 34 seconds '), ('052', None, '0 days 1 hours 32 minutes 38 seconds '), ('052', None, '0 days 1 hours 9 minutes 20 seconds '), ('071', None, '0 days 2 hours 55 minutes 44 seconds '), ('071', None, '0 days 5 hours 41 minutes 53 seconds '), ('002', None, '0 days 4 hours 39 minutes 25 seconds '), ('002', None, '0 days 4 hours 44 minutes 22 seconds '), ('002', None, '0 days 4 hours 21 minutes 34 seconds '), ('002', None, '0 days 4 hours 33 minutes 46 seconds '), ('002', None, '0 days 0 hours 48 minutes 56 seconds '), ('002', None, '0 days 4 hours 16 minutes 1 seconds '), ('002', None, '0 days 11 hours 36 minutes 35 seconds '), ('002', None, '0 days 4 hours 21 minutes 1 seconds '), ('002', None, '0 days 3 hours 37 minutes 25 seconds '), ('002', None, '0 days 4 hours 10 minutes 11 seconds '), ('002', None, '0 days 4 hours 37 minutes 56 seconds '), ('002', None, '0 days 1 hours 35 minutes 49 seconds '), ('025', None, '0 days 1 hours 8 minutes 11 seconds '), ('025', None, '0 days 1 hours 16 minutes 12 seconds '), ('025', None, '0 days 1 hours 22 minutes 35 seconds '), ('025', None, '0 days 4 hours 6 minutes 21 seconds '), ('025', None, '0 days 1 hours 3 minutes 44 seconds '), ('025', None, '0 days 1 hours 7 minutes 31 seconds '), ('025', None, '0 days 0 hours 10 minutes 4 seconds '), ('025', None, '0 days 5 hours 36 minutes 8 seconds '), ('025', None, '0 days 0 hours 52 minutes 27 seconds '), ('112', None, '0 days 0 hours 29 minutes 40 seconds '), ('112', None, '0 days 1 hours 28 minutes 36 seconds '), ('037', None, '0 days 0 hours 43 minutes 48 seconds '), ('037', None, '0 days 0 hours 35 minutes 22 seconds '), ('037', None, '0 days 4 hours 45 minutes 49 seconds '), ('037', None, '0 days 3 hours 29 minutes 54 seconds '), ('037', None, '0 days 0 hours 32 minutes 4 seconds '), ('037', None, '0 days 0 hours 6 minutes 15 seconds '), ('037', None, '0 days 4 hours 33 minutes 44 seconds '), ('037', None, '0 days 5 hours 12 minutes 7 seconds '), ('037', None, '0 days 0 hours 33 minutes 20 seconds '), ('037', None, '0 days 3 hours 52 minutes 31 seconds '), ('037', None, '0 days 16 hours 11 minutes 11 seconds '), ('037', None, '0 days 4 hours 12 minutes 42 seconds '), ('037', None, '0 days 0 hours 31 minutes 3 seconds '), ('037', None, '0 days 4 hours 59 minutes 53 seconds '), ('037', None, '0 days 0 hours 25 minutes 21 seconds '), ('142', None, '0 days 1 hours 40 minutes 39 seconds '), ('142', None, '0 days 0 hours 59 minutes 10 seconds '), ('146', None, '0 days 1 hours 15 minutes 51 seconds '), ('146', None, '0 days 0 hours 16 minutes 17 seconds '), ('099', None, '1 days 4 hours 49 minutes 19 seconds '), ('108', None, '0 days 8 hours 15 minutes 11 seconds '), ('157', None, '0 days 16 hours 5 minutes 30 seconds '), ('057', None, '0 days 4 hours 23 minutes 53 seconds '), ('057', None, '0 days 1 hours 19 minutes 2 seconds '), ('057', None, '0 days 1 hours 17 minutes 59 seconds '), ('057', None, '0 days 1 hours 9 minutes 29 seconds '), ('057', None, '0 days 0 hours 48 minutes 17 seconds '), ('057', None, '0 days 1 hours 17 minutes 45 seconds '), ('020', 'bike', '0 days 10 hours 10 minutes 1 seconds '), ('003', None, '0 days 17 hours 36 minutes 31 seconds '), ('003', None, '0 days 3 hours 10 minutes 35 seconds '), ('003', None, '0 days 11 hours 40 minutes 12 seconds '), ('003', None, '0 days 16 hours 24 minutes 6 seconds '), ('003', None, '0 days 1 hours 43 minutes 20 seconds '), ('003', None, '0 days 11 hours 3 minutes 55 seconds '), ('001', None, '0 days 0 hours 58 minutes 8 seconds '), ('001', None, '0 days 0 hours 42 minutes 24 seconds '), ('001', None, '0 days 0 hours 42 minutes 3 seconds '), ('001', None, '0 days 0 hours 35 minutes 25 seconds '), ('001', None, '0 days 1 hours 19 minutes 41 seconds '), ('001', None, '0 days 0 hours 55 minutes 48 seconds '), ('001', None, '0 days 0 hours 9 minutes 30 seconds '), ('001', None, '0 days 0 hours 57 minutes 15 seconds '), ('001', None, '0 days 0 hours 24 minutes 57 seconds '), ('001', None, '0 days 0 hours 58 minutes 5 seconds '), ('001', None, '0 days 8 hours 26 minutes 34 seconds '), ('001', None, '0 days 1 hours 9 minutes 28 seconds '), ('001', None, '0 days 14 hours 17 minutes 28 seconds '), ('001', None, '0 days 2 hours 40 minutes 20 seconds '), ('001', None, '0 days 13 hours 30 minutes 14 seconds '), ('001', None, '0 days 0 hours 46 minutes 26 seconds '), ('001', None, '0 days 6 hours 54 minutes 46 seconds '), ('001', None, '0 days 7 hours 14 minutes 42 seconds '), ('001', None, '0 days 0 hours 53 minutes 41 seconds '), ('168', None, '0 days 0 hours 41 minutes 24 seconds '), ('168', None, '0 days 1 hours 2 minutes 16 seconds '), ('168', None, '0 days 3 hours 47 minutes 12 seconds '), ('168', None, '0 days 0 hours 27 minutes 14 seconds '), ('168', None, '0 days 0 hours 16 minutes 34 seconds '), ('168', None, '0 days 1 hours 13 minutes 2 seconds '), ('168', None, '0 days 3 hours 7 minutes 19 seconds '), ('168', None, '0 days 7 hours 25 minutes 6 seconds '), ('013', None, '0 days 0 hours 39 minutes 42 seconds '), ('013', None, '0 days 0 hours 49 minutes 19 seconds '), ('013', None, '0 days 0 hours 40 minutes 37 seconds '), ('013', None, '0 days 0 hours 48 minutes 24 seconds '), ('013', None, '0 days 1 hours 3 minutes 22 seconds '), ('013', None, '0 days 0 hours 48 minutes 55 seconds '), ('013', None, '0 days 0 hours 42 minutes 27 seconds '), ('013', None, '0 days 0 hours 46 minutes 10 seconds '), ('013', None, '0 days 1 hours 9 minutes 7 seconds '), ('013', None, '0 days 0 hours 39 minutes 33 seconds '), ('013', None, '0 days 0 hours 45 minutes 42 seconds '), ('013', None, '0 days 0 hours 44 minutes 18 seconds '), ('013', None, '0 days 0 hours 44 minutes 1 seconds '), ('013', None, '0 days 0 hours 39 minutes 38 seconds '), ('013', None, '0 days 2 hours 48 minutes 8 seconds '), ('013', None, '0 days 0 hours 47 minutes 47 seconds '), ('013', None, '0 days 0 hours 50 minutes 14 seconds '), ('013', None, '0 days 0 hours 47 minutes 36 seconds '), ('013', None, '0 days 0 hours 35 minutes 53 seconds '), ('013', None, '0 days 0 hours 52 minutes 54 seconds '), ('013', None, '0 days 0 hours 55 minutes 1 seconds '), ('013', None, '0 days 0 hours 46 minutes 11 seconds '), ('013', None, '0 days 0 hours 52 minutes 8 seconds '), ('013', None, '0 days 0 hours 47 minutes 11 seconds '), ('013', None, '0 days 0 hours 21 minutes 40 seconds '), ('013', None, '0 days 3 hours 5 minutes 57 seconds '), ('013', None, '0 days 0 hours 40 minutes 39 seconds '), ('013', None, '0 days 0 hours 43 minutes 25 seconds '), ('013', None, '0 days 0 hours 43 minutes 4 seconds '), ('013', None, '0 days 0 hours 47 minutes 30 seconds '), ('013', None, '0 days 0 hours 50 minutes 14 seconds '), ('013', None, '0 days 0 hours 38 minutes 46 seconds '), ('013', None, '0 days 0 hours 45 minutes 19 seconds '), ('013', None, '0 days 0 hours 52 minutes 57 seconds '), ('013', None, '0 days 0 hours 55 minutes 5 seconds '), ('013', None, '0 days 10 hours 31 minutes 53 seconds '), ('126', 'walk', '0 days 0 hours 7 minutes 20 seconds '), ('126', None, '0 days 1 hours 9 minutes 45 seconds '), ('126', None, '0 days 4 hours 56 minutes 18 seconds '), ('172', None, '0 days 4 hours 20 minutes 47 seconds '), ('053', None, '0 days 0 hours 41 minutes 34 seconds '), ('103', None, '0 days 0 hours 59 minutes 38 seconds '), ('103', None, '0 days 0 hours 51 minutes 19 seconds '), ('103', None, '0 days 0 hours 39 minutes 5 seconds '), ('167', None, '0 days 0 hours 41 minutes 55 seconds '), ('167', None, '0 days 6 hours 18 minutes 22 seconds '), ('167', None, '0 days 2 hours 42 minutes 33 seconds '), ('167', None, '0 days 6 hours 21 minutes 6 seconds '), ('167', None, '0 days 4 hours 48 minutes 38 seconds '), ('167', None, '0 days 15 hours 42 minutes 39 seconds '), ('032', None, '0 days 4 hours 11 minutes 55 seconds '), ('032', None, '0 days 3 hours 43 minutes 44 seconds '), ('032', None, '0 days 0 hours 41 minutes 15 seconds '), ('032', None, '0 days 5 hours 17 minutes 3 seconds '), ('032', None, '0 days 1 hours 34 minutes 56 seconds '), ('032', None, '0 days 6 hours 29 minutes 18 seconds '), ('101', None, '0 days 6 hours 54 minutes 48 seconds '), ('050', None, '0 days 4 hours 55 minutes 31 seconds '), ('019', None, '0 days 0 hours 48 minutes 29 seconds '), ('041', None, '0 days 1 hours 25 minutes 38 seconds '), ('041', None, '0 days 1 hours 17 minutes 14 seconds '), ('041', None, '0 days 1 hours 15 minutes 24 seconds '), ('041', None, '0 days 2 hours 16 minutes 14 seconds '), ('041', None, '0 days 2 hours 48 minutes 45 seconds '), ('041', None, '0 days 0 hours 22 minutes 35 seconds '), ('041', None, '0 days 1 hours 34 minutes 49 seconds '), ('041', None, '0 days 2 hours 3 minutes 21 seconds '), ('041', None, '0 days 1 hours 18 minutes 16 seconds '), ('041', None, '0 days 1 hours 48 minutes 4 seconds '), ('041', None, '0 days 1 hours 24 minutes 33 seconds '), ('041', None, '0 days 2 hours 44 minutes 22 seconds '), ('041', None, '0 days 3 hours 45 minutes 26 seconds '), ('041', None, '0 days 1 hours 20 minutes 21 seconds '), ('017', None, '0 days 0 hours 34 minutes 44 seconds '), ('017', None, '0 days 0 hours 22 minutes 23 seconds '), ('017', None, '0 days 0 hours 20 minutes 13 seconds '), ('017', None, '1 days 0 hours 32 minutes 16 seconds '), ('017', None, '0 days 3 hours 1 minutes 29 seconds '), ('017', None, '0 days 0 hours 51 minutes 33 seconds '), ('017', None, '0 days 0 hours 15 minutes 47 seconds '), ('017', None, '0 days 0 hours 40 minutes 21 seconds '), ('017', None, '0 days 11 hours 38 minutes 40 seconds '), ('017', None, '0 days 0 hours 29 minutes 8 seconds '), ('017', None, '0 days 0 hours 30 minutes 49 seconds '), ('017', None, '0 days 0 hours 23 minutes 23 seconds '), ('017', None, '0 days 0 hours 25 minutes 43 seconds '), ('017', None, '0 days 8 hours 55 minutes 49 seconds '), ('017', None, '0 days 0 hours 28 minutes 35 seconds '), ('017', None, '0 days 0 hours 25 minutes 23 seconds '), ('069', None, '0 days 12 hours 58 minutes 11 seconds '), ('004', None, '0 days 2 hours 30 minutes 55 seconds '), ('004', None, '0 days 8 hours 58 minutes 34 seconds '), ('004', None, '0 days 17 hours 55 minutes 50 seconds '), ('004', None, '0 days 19 hours 18 minutes 34 seconds '), ('004', None, '0 days 0 hours 2 minutes 15 seconds '), ('004', None, '0 days 17 hours 10 minutes 21 seconds '), ('004', None, '0 days 17 hours 43 minutes 5 seconds '), ('004', None, '0 days 11 hours 8 minutes 52 seconds '), ('004', None, '0 days 1 hours 37 minutes 5 seconds '), ('004', None, '0 days 1 hours 51 minutes 45 seconds '), ('004', None, '0 days 14 hours 44 minutes 20 seconds '), ('004', None, '0 days 11 hours 42 minutes 31 seconds '), ('004', None, '0 days 16 hours 2 minutes 29 seconds '), ('004', None, '0 days 14 hours 26 minutes 31 seconds '), ('004', None, '0 days 12 hours 46 minutes 25 seconds '), ('004', None, '0 days 14 hours 1 minutes 57 seconds '), ('004', None, '0 days 18 hours 36 minutes 3 seconds '), ('004', None, '0 days 12 hours 14 minutes 36 seconds '), ('004', None, '0 days 12 hours 20 minutes 50 seconds '), ('004', None, '0 days 1 hours 24 minutes 55 seconds '), ('004', None, '0 days 4 hours 58 minutes 2 seconds '), ('004', None, '0 days 19 hours 37 minutes 58 seconds '), ('004', None, '0 days 14 hours 20 minutes 41 seconds '), ('004', None, '0 days 1 hours 56 minutes 50 seconds '), ('004', None, '0 days 21 hours 59 minutes 55 seconds '), ('004', None, '0 days 15 hours 37 minutes 31 seconds '), ('004', None, '0 days 18 hours 34 minutes 56 seconds '), ('004', None, '0 days 3 hours 13 minutes 10 seconds '), ('134', None, '0 days 13 hours 35 minutes 4 seconds '), ('134', None, '0 days 0 hours 6 minutes 36 seconds '), ('016', None, '0 days 1 hours 48 minutes 11 seconds '), ('111', None, '0 days 7 hours 13 minutes 36 seconds '), ('111', None, '0 days 11 hours 16 minutes 53 seconds '), ('111', None, '0 days 12 hours 12 minutes 6 seconds '), ('111', None, '0 days 3 hours 43 minutes 42 seconds '), ('007', None, '0 days 14 hours 32 minutes 27 seconds '), ('039', None, '0 days 1 hours 1 minutes 30 seconds '), ('039', None, '0 days 0 hours 23 minutes 10 seconds '), ('039', None, '0 days 4 hours 58 minutes 11 seconds '), ('039', None, '0 days 5 hours 0 minutes 10 seconds '), ('039', None, '0 days 1 hours 11 minutes 41 seconds '), ('039', None, '0 days 0 hours 59 minutes 55 seconds '), ('039', None, '0 days 0 hours 21 minutes 13 seconds '), ('039', None, '0 days 0 hours 38 minutes 40 seconds '), ('039', None, '0 days 1 hours 11 minutes 45 seconds '), ('039', None, '0 days 1 hours 18 minutes 30 seconds '), ('039', None, '0 days 12 hours 24 minutes 20 seconds '), ('039', None, '0 days 1 hours 18 minutes 0 seconds '), ('039', None, '0 days 5 hours 40 minutes 20 seconds '), ('039', None, '0 days 0 hours 19 minutes 0 seconds '), ('039', None, '0 days 11 hours 45 minutes 55 seconds '), ('039', None, '0 days 0 hours 27 minutes 55 seconds '), ('039', None, '0 days 6 hours 8 minutes 47 seconds '), ('039', None, '0 days 4 hours 58 minutes 56 seconds '), ('039', None, '0 days 0 hours 22 minutes 50 seconds '), ('039', None, '0 days 4 hours 51 minutes 47 seconds '), ('039', None, '0 days 1 hours 16 minutes 15 seconds '), ('039', None, '0 days 0 hours 38 minutes 30 seconds '), ('039', None, '0 days 1 hours 10 minutes 45 seconds '), ('039', None, '0 days 1 hours 58 minutes 11 seconds '), ('039', None, '0 days 1 hours 15 minutes 50 seconds '), ('039', None, '0 days 1 hours 8 minutes 15 seconds '), ('039', None, '0 days 13 hours 36 minutes 20 seconds '), ('039', None, '0 days 5 hours 21 minutes 28 seconds '), ('039', None, '0 days 4 hours 4 minutes 45 seconds '), ('039', None, '0 days 0 hours 30 minutes 25 seconds '), ('039', None, '0 days 1 hours 15 minutes 25 seconds '), ('039', None, '0 days 1 hours 10 minutes 25 seconds '), ('039', None, '0 days 1 hours 12 minutes 20 seconds '), ('039', None, '0 days 0 hours 30 minutes 5 seconds '), ('039', None, '0 days 9 hours 56 minutes 48 seconds '), ('039', None, '0 days 0 hours 32 minutes 20 seconds '), ('039', None, '0 days 0 hours 9 minutes 45 seconds ')]\n"
     ]
    },
    {
     "data": {
      "text/plain": [
       "<bound method DbConnector.close_connection of <DbConnector.DbConnector object at 0x10afdde50>>"
      ]
     },
     "execution_count": 30,
     "metadata": {},
     "output_type": "execute_result"
    }
   ],
   "source": [
    "q = \"\"\"\n",
    "WITH difference_seconds AS (\n",
    "    SELECT user_id, transportation_mode, TIMESTAMPDIFF(SECOND, start_date_time, end_date_time) AS seconds\n",
    "    FROM Activity\n",
    "    WHERE DATE(start_date_time) != DATE(end_date_time)\n",
    "),\n",
    "\n",
    "diff_clock AS (\n",
    "    SELECT \n",
    "        user_id, \n",
    "        transportation_mode,\n",
    "        seconds, \n",
    "        MOD(seconds, 60) AS seconds_p,\n",
    "        MOD(seconds, 60*60) AS minutes_p,\n",
    "        MOD(seconds, 60*60*24) AS hours_p\n",
    "    FROM\n",
    "        difference_seconds\n",
    ") \n",
    "\n",
    "SELECT\n",
    "    user_id,\n",
    "    transportation_mode,\n",
    "    CONCAT(\n",
    "        FLOOR(seconds / 3600 / 24), ' days ',\n",
    "        FLOOR(hours_p / 3600), ' hours ',\n",
    "        FLOOR(minutes_p / 60), ' minutes ',\n",
    "        seconds_p, ' seconds '\n",
    "    ) AS duration\n",
    "FROM diff_clock;\n",
    "\"\"\"\n",
    "\n",
    "db = DbConnector()\n",
    "SQ2.query_to_db(db, q)\n",
    "db.close_connection"
   ]
  },
  {
   "cell_type": "markdown",
   "metadata": {},
   "source": [
    "```sql\n",
    "WHERE start_2 BETWEEN start_1, end_1 OR end_2 BETWEEN start_1, end_1"
   ]
  },
  {
   "cell_type": "markdown",
   "metadata": {},
   "source": [
    "## Question 10: Find the users that have traveled the longest total distance in one day for each transportation mode."
   ]
  },
  {
   "cell_type": "markdown",
   "metadata": {},
   "source": [
    "WORKING:\n",
    "\n",
    "```sql\n",
    "WITH transport_same_day AS (\n",
    "    SELECT user_id, activity_id, transportation_mode FROM Activity WHERE transportation_mode != \"NULL\" AND DATE(start_date_time) = DATE(end_date_time)\n",
    "), \n",
    "\n",
    "joined AS (SELECT \n",
    "            lon, \n",
    "            lat,\n",
    "            date_time, \n",
    "            transport_same_day.activity_id, \n",
    "            transport_same_day.transportation_mode \n",
    "            FROM TrackPoint \n",
    "            JOIN transport_same_day \n",
    "            ON TrackPoint.activity_id = transport_same_day.activity_id \n",
    "        )\n",
    "\n",
    "SELECT * FROM joined;\n",
    "```\n"
   ]
  },
  {
   "cell_type": "code",
   "execution_count": 6,
   "metadata": {},
   "outputs": [
    {
     "name": "stdout",
     "output_type": "stream",
     "text": [
      "Connected to: 8.0.34-0ubuntu0.22.04.1\n",
      "You are connected to the database: ('main_db',)\n",
      "-----------------------------------------------\n",
      "\n",
      "[]\n",
      "[[('bus',), (None,), ('bike',), ('walk',), ('taxi',), ('subway',), ('car',), ('airplane',), ('train',), ('boat',), ('run',)]]\n",
      "['bus', 'bike', 'walk', 'taxi', 'subway', 'car', 'airplane', 'train', 'boat', 'run']\n"
     ]
    }
   ],
   "source": [
    "query_tm = \"\"\"\n",
    "SELECT DISTINCT transportation_mode FROM Activity;\n",
    "\"\"\"\n",
    "tmode = \"bus\"\n",
    "\n",
    "q = f\"\"\"\n",
    "WITH transport_same_day AS (\n",
    "    SELECT user_id, activity_id, transportation_mode FROM Activity WHERE transportation_mode = {tmode} AND DATE(start_date_time) = DATE(end_date_time)\n",
    "), \n",
    "\n",
    "joined AS (SELECT \n",
    "            lon, \n",
    "            lat,\n",
    "            date_time, \n",
    "            transport_same_day.activity_id, \n",
    "            transport_same_day.transportation_mode \n",
    "            FROM TrackPoint \n",
    "            JOIN transport_same_day \n",
    "            ON TrackPoint.activity_id = transport_same_day.activity_id \n",
    "        )\n",
    "\n",
    "SELECT * FROM joined;\n",
    "\"\"\"\n",
    "\n",
    "\n",
    "db = DbConnector()\n",
    "bol, t_modes = SQ2.query_to_db(db, query_tm)\n",
    "db.close_connection\n",
    "t_mode_clean = []\n",
    "for mode in t_modes[0]:\n",
    "    if mode[0] != None:\n",
    "        t_mode_clean.append(mode[0])\n",
    "\n",
    "\n",
    "    "
   ]
  },
  {
   "cell_type": "markdown",
   "metadata": {},
   "source": [
    "## Question 11: Find all users who have invalid activities, and the number of invalid activities per user\n",
    "- An invalid activity is defined as an activity with consecutive trackpoints where the timestamps deviate with at least 5 minutes.\n"
   ]
  },
  {
   "cell_type": "markdown",
   "metadata": {},
   "source": [
    "## Question 12: Find all users who have registered transportation_mode and their most used transportation_mode.\n",
    "- The answer should be on format (user_id, most_used_transportation_mode) sorted on user_id.\n",
    "- Some users may have the same number of activities tagged with e.g. walk and car. In this case it is up to you to decide which transportation mode to include in your answer (choose one).\n",
    "- Do not count the rows where the mode is null."
   ]
  }
 ],
 "metadata": {
  "kernelspec": {
   "display_name": "venv",
   "language": "python",
   "name": "python3"
  },
  "language_info": {
   "codemirror_mode": {
    "name": "ipython",
    "version": 3
   },
   "file_extension": ".py",
   "mimetype": "text/x-python",
   "name": "python",
   "nbconvert_exporter": "python",
   "pygments_lexer": "ipython3",
   "version": "3.9.16"
  },
  "orig_nbformat": 4
 },
 "nbformat": 4,
 "nbformat_minor": 2
}
