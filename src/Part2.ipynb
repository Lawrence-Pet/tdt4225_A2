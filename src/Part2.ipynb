{
 "cells": [
  {
   "cell_type": "markdown",
   "metadata": {},
   "source": [
    "# TDT4225 Excercise 2 - Part 2"
   ]
  },
  {
   "cell_type": "code",
   "execution_count": 1,
   "metadata": {},
   "outputs": [],
   "source": [
    "from DbConnector import DbConnector\n",
    "import SqlQueriespt2 as SQ2"
   ]
  },
  {
   "cell_type": "markdown",
   "metadata": {},
   "source": [
    "## Question 1: How many users, activities, and trackpoints are there in the dataset\n"
   ]
  },
  {
   "cell_type": "code",
   "execution_count": 2,
   "metadata": {},
   "outputs": [
    {
     "name": "stderr",
     "output_type": "stream",
     "text": [
      "2023-10-04 13:59:41,138 SQL PART2  INFO Executing: SELECT COUNT(*) FROM User\n",
      "2023-10-04 13:59:41,163 SQL PART2  INFO Executing: SELECT COUNT(*) FROM Activity\n",
      "2023-10-04 13:59:41,190 SQL PART2  INFO Executing: SELECT COUNT(*) FROM TrackPoint\n"
     ]
    },
    {
     "name": "stdout",
     "output_type": "stream",
     "text": [
      "Connected to: 8.0.34-0ubuntu0.22.04.1\n",
      "You are connected to the database: ('main_db',)\n",
      "-----------------------------------------------\n",
      "\n",
      "Rows produced by statement 'SELECT COUNT(*) FROM User':\n",
      "[(182,)]\n",
      "Rows produced by statement 'SELECT COUNT(*) FROM Activity':\n",
      "[(16048,)]\n",
      "Rows produced by statement 'SELECT COUNT(*) FROM TrackPoint':\n",
      "[(9681756,)]\n",
      "\n",
      "-----------------------------------------------\n",
      "Connection to 8.0.34-0ubuntu0.22.04.1 is closed\n"
     ]
    }
   ],
   "source": [
    "db = DbConnector()\n",
    "\n",
    "count_users_query = \"SELECT COUNT(*) FROM User\"\n",
    "count_activities_query = \"SELECT COUNT(*) FROM Activity\"\n",
    "count_trackpoints_query = \"SELECT COUNT(*) FROM TrackPoint\"\n",
    "\n",
    "SQ2.query_to_db(db, count_users_query)\n",
    "SQ2.query_to_db(db, count_activities_query)\n",
    "SQ2.query_to_db(db, count_trackpoints_query)\n",
    "db.close_connection()"
   ]
  },
  {
   "cell_type": "markdown",
   "metadata": {},
   "source": [
    ">NOTE! We do not count the original dataset here, we only count the part of the dataset that fits the requirements for the excercise. "
   ]
  },
  {
   "cell_type": "markdown",
   "metadata": {},
   "source": [
    "## Question 2: Find the average, maximum, and minimum number of trackpoints per user"
   ]
  },
  {
   "cell_type": "code",
   "execution_count": null,
   "metadata": {},
   "outputs": [],
   "source": [
    "\n",
    "def statistics_trackpoints_per_user(function:str = \"AVG\"):\n",
    "    string = f\"\"\"\n",
    "        WITH \n",
    "            query AS (\n",
    "                        SELECT COUNT(trackpoint_id) AS trackpoint_count, activity_id FROM TrackPoint\n",
    "                        GROUP BY activity_id\n",
    "                    ),\n",
    "            activities AS (\n",
    "                SELECT user_id, activity_id FROM Activity\n",
    "                ),\n",
    "            joined_user AS (SELECT activities.user_id, query.trackpoint_count FROM query JOIN activities ON query.activity_id = activities.activity_id)\n",
    "\n",
    "            SELECT user_id, {function}(trackpoint_count) FROM joined_user\n",
    "            GROUP BY user_id\n",
    "        ;\n",
    "        \"\"\"\n",
    "    return string\n",
    "\n",
    "db = DbConnector()\n",
    "SQ2.query_to_db(db, statistics_trackpoints_per_user(\"AVG\"))\n",
    "SQ2.query_to_db(db, statistics_trackpoints_per_user(\"MIN\"))\n",
    "SQ2.query_to_db(db, statistics_trackpoints_per_user(\"MAX\"))\n",
    "db.close_connection\n",
    "\n"
   ]
  },
  {
   "cell_type": "markdown",
   "metadata": {},
   "source": [
    ">NOTE:\n",
    "> \n",
    ">First value in returned tuple is `user_id` second value is the result of the passed function. \n",
    ">\n",
    "> *Still only using DB values*"
   ]
  },
  {
   "cell_type": "markdown",
   "metadata": {},
   "source": [
    "## Question 3: Find the top 15 users with the highest number of activities"
   ]
  },
  {
   "cell_type": "code",
   "execution_count": 10,
   "metadata": {},
   "outputs": [
    {
     "name": "stderr",
     "output_type": "stream",
     "text": [
      "2023-10-04 15:41:28,606 SQL PART2  INFO Executing: \n",
      "SELECT user_id, COUNT(activity_id) AS result FROM Activity\n",
      "GROUP BY user_id\n",
      "ORDER BY result DESC\n",
      "LIMIT 15\n",
      ";\n",
      "\n"
     ]
    },
    {
     "name": "stdout",
     "output_type": "stream",
     "text": [
      "Connected to: 8.0.34-0ubuntu0.22.04.1\n",
      "You are connected to the database: ('main_db',)\n",
      "-----------------------------------------------\n",
      "\n",
      "Rows produced by statement 'SELECT user_id, COUNT(activity_id) AS result FROM Activity\n",
      "GROUP BY user_id\n",
      "ORDER BY result DESC\n",
      "LIMIT 15':\n",
      "[('128', 2102), ('153', 1793), ('025', 715), ('163', 704), ('062', 691), ('144', 563), ('041', 399), ('085', 364), ('004', 346), ('140', 345), ('167', 320), ('068', 280), ('017', 265), ('003', 261), ('014', 236)]\n"
     ]
    },
    {
     "data": {
      "text/plain": [
       "<bound method DbConnector.close_connection of <DbConnector.DbConnector object at 0x10abd0a60>>"
      ]
     },
     "execution_count": 10,
     "metadata": {},
     "output_type": "execute_result"
    }
   ],
   "source": [
    "query_top_15_active_users = \"\"\"\n",
    "SELECT user_id, COUNT(activity_id) AS result FROM Activity\n",
    "GROUP BY user_id\n",
    "ORDER BY result DESC\n",
    "LIMIT 15\n",
    ";\n",
    "\"\"\"\n",
    "\n",
    "db = DbConnector()\n",
    "SQ2.query_to_db(db, query_top_15_active_users)\n",
    "db.close_connection"
   ]
  }
 ],
 "metadata": {
  "kernelspec": {
   "display_name": "venv",
   "language": "python",
   "name": "python3"
  },
  "language_info": {
   "codemirror_mode": {
    "name": "ipython",
    "version": 3
   },
   "file_extension": ".py",
   "mimetype": "text/x-python",
   "name": "python",
   "nbconvert_exporter": "python",
   "pygments_lexer": "ipython3",
   "version": "3.9.16"
  },
  "orig_nbformat": 4
 },
 "nbformat": 4,
 "nbformat_minor": 2
}
